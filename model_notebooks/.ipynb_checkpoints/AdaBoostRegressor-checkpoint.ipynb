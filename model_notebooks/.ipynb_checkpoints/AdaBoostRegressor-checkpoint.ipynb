{
 "cells": [
  {
   "cell_type": "code",
   "execution_count": 33,
   "metadata": {},
   "outputs": [],
   "source": [
    "import pandas as pd\n",
    "import os\n",
    "import numpy as np\n",
    "from sklearn.metrics import r2_score"
   ]
  },
  {
   "cell_type": "code",
   "execution_count": 34,
   "metadata": {},
   "outputs": [],
   "source": [
    "meta = pd.read_csv(\"../input/meta_open.csv\", index_col='uid', parse_dates=[\"datastart\",\"dataend\"], dayfirst=True)\n",
    "temporal = pd.read_csv(\"../input/temp_open_utc_complete.csv\", index_col='timestamp', parse_dates=True).tz_localize('utc')"
   ]
  },
  {
   "cell_type": "code",
   "execution_count": 35,
   "metadata": {},
   "outputs": [],
   "source": [
    "buildingnames = temporal.columns[temporal.columns.str.contains(\"Office\")]"
   ]
  },
  {
   "cell_type": "code",
   "execution_count": 36,
   "metadata": {},
   "outputs": [
    {
     "data": {
      "text/plain": [
       "Index(['Office_Cristina', 'Office_Jesus', 'Office_Jett', 'Office_Jerry',\n",
       "       'Office_Lesa', 'Office_Jackie', 'Office_Marla', 'Office_Maryann',\n",
       "       'Office_Myron', 'Office_Conrad',\n",
       "       ...\n",
       "       'Office_Ellie', 'Office_Erik', 'Office_Evelyn', 'Office_Emer',\n",
       "       'Office_Elena', 'Office_Emerald', 'Office_Ellis', 'Office_Elliot',\n",
       "       'Office_Eddie', 'Office_Georgia'],\n",
       "      dtype='object', length=156)"
      ]
     },
     "execution_count": 36,
     "metadata": {},
     "output_type": "execute_result"
    }
   ],
   "source": [
    "buildingnames"
   ]
  },
  {
   "cell_type": "code",
   "execution_count": 37,
   "metadata": {},
   "outputs": [
    {
     "name": "stdout",
     "output_type": "stream",
     "text": [
      "Modelling: Office_Cristina\n",
      "Weatherfile: weather2.csv\n",
      "MAPE: 27.086057495078965\n",
      "NMBE: 1.0166219886345862\n",
      "CVRSME: 28.589986502921278\n",
      "R SQUARED: 0.18218026965653822\n",
      "Modelling: Office_Jesus\n",
      "Weatherfile: weather1.csv\n",
      "MAPE: 143.98697775733626\n",
      "NMBE: 4.097141967907661\n",
      "CVRSME: 31.455292481301637\n",
      "R SQUARED: 0.330548305538116\n"
     ]
    }
   ],
   "source": [
    "MAPE_data = {}\n",
    "RSQUARED_data = {}\n",
    "NMBE_data = {}\n",
    "CVRSME_data = {}\n",
    "\n",
    "for singlebuilding in buildingnames[:2]:\n",
    "    print(\"Modelling: \"+singlebuilding)\n",
    "#     try:\n",
    "    # Get Data\n",
    "    single_timezone = meta.T[singlebuilding].timezone\n",
    "    single_start = meta.T[singlebuilding].datastart\n",
    "    single_end = meta.T[singlebuilding].dataend\n",
    "    single_building_data = pd.DataFrame(temporal[singlebuilding].tz_convert(single_timezone).truncate(before=single_start,after=single_end))\n",
    "\n",
    "    # Split into Training and Testing\n",
    "    trainingdata = single_building_data[single_building_data.index.month.isin([\"1\",\"2\",\"3\",\"5\",\"6\",\"7\",\"9\",\"10\",\"11\"])]\n",
    "    testdata = single_building_data[single_building_data.index.month.isin([\"4\",\"8\",\"12\"])]\n",
    "\n",
    "    # Get weather file\n",
    "    weatherfilename = meta.T[singlebuilding].newweatherfilename\n",
    "    print(\"Weatherfile: \"+weatherfilename)\n",
    "    weather = pd.read_csv(os.path.join(\"../input/\",weatherfilename),index_col='timestamp', parse_dates=True, na_values='-9999')\n",
    "    weather = weather.tz_localize(single_timezone, ambiguous = 'infer')\n",
    "    outdoor_temp = pd.DataFrame(weather[[col for col in weather.columns if 'Temperature' in col]]).resample(\"H\").mean()\n",
    "    outdoor_temp = outdoor_temp.reindex(pd.DatetimeIndex(start=outdoor_temp.index[0], periods=len(single_building_data), freq=\"H\")).fillna(method='ffill').fillna(method='bfill')\n",
    "\n",
    "    # Create training data array\n",
    "    train_features = np.array(pd.concat([pd.get_dummies(trainingdata.index.hour),\n",
    "                                         pd.get_dummies(trainingdata.index.dayofweek),\n",
    "               pd.Series(outdoor_temp[outdoor_temp.index.month.isin([\"1\",\"2\",\"3\",\"5\",\"6\",\"7\",\"9\",\"10\",\"11\"])].TemperatureC.values)], axis=1))\n",
    "    train_labels = np.array(trainingdata[singlebuilding].values)\n",
    "\n",
    "    # Create test data array\n",
    "    test_features = np.array(pd.concat([pd.get_dummies(testdata.index.hour),\n",
    "                                         pd.get_dummies(testdata.index.dayofweek),\n",
    "               pd.Series(outdoor_temp[outdoor_temp.index.month.isin([\"4\",\"8\",\"12\"])].TemperatureC.values)], axis=1))\n",
    "    test_labels = np.array(testdata[singlebuilding].values)\n",
    "    \n",
    "    # Import the model we are using\n",
    "    from sklearn.ensemble import AdaBoostRegressor\n",
    "    # Make model\n",
    "    model = AdaBoostRegressor(n_estimators = 1000, random_state = 42)\n",
    "    # Train the model on training data\n",
    "    model.fit(train_features, train_labels);\n",
    "    # Use the forest's predict method on the test data\n",
    "    predictions = model.predict(test_features)\n",
    "    \n",
    "    # Calculate the absolute errors\n",
    "    errors = abs(predictions - test_labels)\n",
    "\n",
    "    # Calculate mean absolute percentage error (MAPE) and add to list\n",
    "    MAPE = 100 * np.mean((errors / test_labels))\n",
    "    NMBE = 100 * (sum(test_labels - predictions) / (pd.Series(test_labels).count() * np.mean(test_labels)))\n",
    "    CVRSME = 100 * ((sum((test_labels - predictions)**2) / (pd.Series(test_labels).count()-1))**(0.5)) / np.mean(test_labels)\n",
    "    RSQUARED = r2_score(test_labels, predictions)\n",
    "\n",
    "    print(\"MAPE: \"+str(MAPE))\n",
    "    print(\"NMBE: \"+str(NMBE))\n",
    "    print(\"CVRSME: \"+str(CVRSME))\n",
    "    print(\"R SQUARED: \"+str(RSQUARED))\n",
    "\n",
    "    MAPE_data[singlebuilding] = MAPE\n",
    "    NMBE_data[singlebuilding] = NMBE\n",
    "    CVRSME_data[singlebuilding] = CVRSME\n",
    "    RSQUARED_data[singlebuilding] = RSQUARED\n",
    "        \n",
    "#     except:\n",
    "#         print(\"There was a problem\")\n"
   ]
  },
  {
   "cell_type": "code",
   "execution_count": 38,
   "metadata": {},
   "outputs": [],
   "source": [
    "metrics = pd.DataFrame([MAPE_data, NMBE_data, CVRSME_data, RSQUARED_data]).T\n",
    "metrics.columns = [\"MAPE\", \"NMBE\", \"CVRSME\", \"RSQUARED\"]"
   ]
  },
  {
   "cell_type": "code",
   "execution_count": 39,
   "metadata": {},
   "outputs": [
    {
     "data": {
      "text/html": [
       "<div>\n",
       "<style scoped>\n",
       "    .dataframe tbody tr th:only-of-type {\n",
       "        vertical-align: middle;\n",
       "    }\n",
       "\n",
       "    .dataframe tbody tr th {\n",
       "        vertical-align: top;\n",
       "    }\n",
       "\n",
       "    .dataframe thead th {\n",
       "        text-align: right;\n",
       "    }\n",
       "</style>\n",
       "<table border=\"1\" class=\"dataframe\">\n",
       "  <thead>\n",
       "    <tr style=\"text-align: right;\">\n",
       "      <th></th>\n",
       "      <th>MAPE</th>\n",
       "      <th>NMBE</th>\n",
       "      <th>CVRSME</th>\n",
       "      <th>RSQUARED</th>\n",
       "    </tr>\n",
       "  </thead>\n",
       "  <tbody>\n",
       "    <tr>\n",
       "      <th>Office_Cristina</th>\n",
       "      <td>27.086057</td>\n",
       "      <td>1.016622</td>\n",
       "      <td>28.589987</td>\n",
       "      <td>0.182180</td>\n",
       "    </tr>\n",
       "    <tr>\n",
       "      <th>Office_Jesus</th>\n",
       "      <td>143.986978</td>\n",
       "      <td>4.097142</td>\n",
       "      <td>31.455292</td>\n",
       "      <td>0.330548</td>\n",
       "    </tr>\n",
       "  </tbody>\n",
       "</table>\n",
       "</div>"
      ],
      "text/plain": [
       "                       MAPE      NMBE     CVRSME  RSQUARED\n",
       "Office_Cristina   27.086057  1.016622  28.589987  0.182180\n",
       "Office_Jesus     143.986978  4.097142  31.455292  0.330548"
      ]
     },
     "execution_count": 39,
     "metadata": {},
     "output_type": "execute_result"
    }
   ],
   "source": [
    "metrics"
   ]
  },
  {
   "cell_type": "code",
   "execution_count": 40,
   "metadata": {},
   "outputs": [],
   "source": [
    "metrics.to_csv(\"AdaBoostRegressor_metrics.csv\")"
   ]
  },
  {
   "cell_type": "code",
   "execution_count": null,
   "metadata": {},
   "outputs": [],
   "source": []
  },
  {
   "cell_type": "code",
   "execution_count": null,
   "metadata": {},
   "outputs": [],
   "source": []
  },
  {
   "cell_type": "code",
   "execution_count": null,
   "metadata": {},
   "outputs": [],
   "source": []
  }
 ],
 "metadata": {
  "kernelspec": {
   "display_name": "Python 3",
   "language": "python",
   "name": "python3"
  },
  "language_info": {
   "codemirror_mode": {
    "name": "ipython",
    "version": 3
   },
   "file_extension": ".py",
   "mimetype": "text/x-python",
   "name": "python",
   "nbconvert_exporter": "python",
   "pygments_lexer": "ipython3",
   "version": "3.6.5"
  }
 },
 "nbformat": 4,
 "nbformat_minor": 2
}
