{
 "cells": [
  {
   "cell_type": "markdown",
   "metadata": {},
   "source": [
    "# Cumulative error charts to show the diversity of model behavior"
   ]
  },
  {
   "cell_type": "code",
   "execution_count": 1,
   "metadata": {},
   "outputs": [],
   "source": [
    "import pandas as pd\n",
    "import numpy as np\n",
    "%matplotlib inline\n",
    "import matplotlib.pyplot as plt\n",
    "from sklearn.preprocessing import normalize\n",
    "import seaborn as sns\n",
    "import matplotlib"
   ]
  },
  {
   "cell_type": "code",
   "execution_count": 3,
   "metadata": {},
   "outputs": [],
   "source": [
    "# list of models\n",
    "# Commented few models because they produced very big results which interfere visualization\n",
    "models = [\n",
    "          'ExtraTreesRegressor',\n",
    "        'ExtraTreeRegressor',\n",
    "        'RandomForestRegressor',\n",
    "          'BaggingRegressor',\n",
    "          'DecisionTreeRegressor',\n",
    "                   'MLPRegressor',\n",
    "          \n",
    "          \n",
    "           #'GaussianProcessRegressor',\n",
    "          'GradientBoostingRegressor',\n",
    "          'HuberRegressor',\n",
    "    'TheilSenRegressor',\n",
    "    'AdaBoostRegressor',\n",
    "          'KNeighborsRegressor',\n",
    "       'DummyRegressor'\n",
    "\n",
    "          #'PassiveAggressiveRegressor',\n",
    "          #'RANSACRegressor',\n",
    "          #'SGDRegressor',\n",
    "          \n",
    "    \n",
    "  \n",
    "         ]\n",
    "buildingtypes = ['Office', 'PrimClass', 'UnivClass', 'UnivDorm', 'UnivLab']"
   ]
  },
  {
   "cell_type": "code",
   "execution_count": 5,
   "metadata": {},
   "outputs": [],
   "source": [
    "def assign_buildingtype(name):\n",
    "    if \"Office\" in name:\n",
    "        return \"Office\"\n",
    "    elif \"PrimClass\" in name:\n",
    "        return \"PrimClass\"\n",
    "    elif \"UnivClass\" in name:\n",
    "        return \"UnivClass\"\n",
    "    elif \"UnivDorm\" in name:\n",
    "        return \"UnivDorm\"\n",
    "    else:\n",
    "        return \"UnivLab\""
   ]
  },
  {
   "cell_type": "code",
   "execution_count": 6,
   "metadata": {},
   "outputs": [],
   "source": [
    "for buildingtype in buildingtypes:\n",
    "        # Draw lines on single plot\n",
    "#         MAPE = {}\n",
    "#         NMBE = {}\n",
    "#         CVRSME = {}\n",
    "    dataframes = []\n",
    "    for i in range(len(models)):\n",
    "\n",
    "        cv_range = range(1,5)\n",
    "\n",
    "        for cv_mode in cv_range:\n",
    "\n",
    "\n",
    "            data = pd.read_csv('../results/' + models[i] + '_metrics_cross_validation_'+str(cv_mode)+'.csv')\n",
    "            #data = data.drop(columns=['Unnamed: 0'])\n",
    "    #                 data['buidingtype'] = buildingtype\n",
    "            data['buildingtype'] = data.building.apply(lambda x: assign_buildingtype(x))\n",
    "            data['cv_mode'] = str(cv_mode)\n",
    "            data['model'] = models[i]\n",
    "            dataframes.append(data)\n",
    "            result = pd.concat(dataframes)"
   ]
  },
  {
   "cell_type": "code",
   "execution_count": 8,
   "metadata": {},
   "outputs": [
    {
     "name": "stdout",
     "output_type": "stream",
     "text": [
      "<class 'pandas.core.frame.DataFrame'>\n",
      "Int64Index: 23136 entries, 0 to 481\n",
      "Data columns (total 8 columns):\n",
      "building        23136 non-null object\n",
      "MAPE            23136 non-null float64\n",
      "NMBE            23136 non-null float64\n",
      "CVRSME          23136 non-null float64\n",
      "RSQUARED        23136 non-null float64\n",
      "buildingtype    23136 non-null object\n",
      "cv_mode         23136 non-null object\n",
      "model           23136 non-null object\n",
      "dtypes: float64(4), object(4)\n",
      "memory usage: 1.6+ MB\n"
     ]
    }
   ],
   "source": [
    "result.info()"
   ]
  },
  {
   "cell_type": "code",
   "execution_count": 9,
   "metadata": {},
   "outputs": [
    {
     "data": {
      "text/html": [
       "<div>\n",
       "<style scoped>\n",
       "    .dataframe tbody tr th:only-of-type {\n",
       "        vertical-align: middle;\n",
       "    }\n",
       "\n",
       "    .dataframe tbody tr th {\n",
       "        vertical-align: top;\n",
       "    }\n",
       "\n",
       "    .dataframe thead th {\n",
       "        text-align: right;\n",
       "    }\n",
       "</style>\n",
       "<table border=\"1\" class=\"dataframe\">\n",
       "  <thead>\n",
       "    <tr style=\"text-align: right;\">\n",
       "      <th></th>\n",
       "      <th>building</th>\n",
       "      <th>MAPE</th>\n",
       "      <th>NMBE</th>\n",
       "      <th>CVRSME</th>\n",
       "      <th>RSQUARED</th>\n",
       "      <th>buildingtype</th>\n",
       "      <th>cv_mode</th>\n",
       "      <th>model</th>\n",
       "    </tr>\n",
       "  </thead>\n",
       "  <tbody>\n",
       "    <tr>\n",
       "      <th>0</th>\n",
       "      <td>UnivLab_Tracy</td>\n",
       "      <td>12.069027</td>\n",
       "      <td>4.081012</td>\n",
       "      <td>18.054658</td>\n",
       "      <td>0.280738</td>\n",
       "      <td>UnivLab</td>\n",
       "      <td>1</td>\n",
       "      <td>ExtraTreesRegressor</td>\n",
       "    </tr>\n",
       "    <tr>\n",
       "      <th>1</th>\n",
       "      <td>UnivLab_Tracie</td>\n",
       "      <td>7.730150</td>\n",
       "      <td>5.995834</td>\n",
       "      <td>10.752141</td>\n",
       "      <td>0.505270</td>\n",
       "      <td>UnivLab</td>\n",
       "      <td>1</td>\n",
       "      <td>ExtraTreesRegressor</td>\n",
       "    </tr>\n",
       "    <tr>\n",
       "      <th>2</th>\n",
       "      <td>UnivLab_Terrie</td>\n",
       "      <td>6.588024</td>\n",
       "      <td>4.577020</td>\n",
       "      <td>9.903526</td>\n",
       "      <td>0.529689</td>\n",
       "      <td>UnivLab</td>\n",
       "      <td>1</td>\n",
       "      <td>ExtraTreesRegressor</td>\n",
       "    </tr>\n",
       "    <tr>\n",
       "      <th>3</th>\n",
       "      <td>UnivLab_Taylor</td>\n",
       "      <td>7.934278</td>\n",
       "      <td>-2.887212</td>\n",
       "      <td>10.319570</td>\n",
       "      <td>0.567188</td>\n",
       "      <td>UnivLab</td>\n",
       "      <td>1</td>\n",
       "      <td>ExtraTreesRegressor</td>\n",
       "    </tr>\n",
       "    <tr>\n",
       "      <th>4</th>\n",
       "      <td>UnivLab_Tami</td>\n",
       "      <td>12.745281</td>\n",
       "      <td>-5.568999</td>\n",
       "      <td>15.372600</td>\n",
       "      <td>0.392011</td>\n",
       "      <td>UnivLab</td>\n",
       "      <td>1</td>\n",
       "      <td>ExtraTreesRegressor</td>\n",
       "    </tr>\n",
       "  </tbody>\n",
       "</table>\n",
       "</div>"
      ],
      "text/plain": [
       "         building       MAPE      NMBE     CVRSME  RSQUARED buildingtype  \\\n",
       "0   UnivLab_Tracy  12.069027  4.081012  18.054658  0.280738      UnivLab   \n",
       "1  UnivLab_Tracie   7.730150  5.995834  10.752141  0.505270      UnivLab   \n",
       "2  UnivLab_Terrie   6.588024  4.577020   9.903526  0.529689      UnivLab   \n",
       "3  UnivLab_Taylor   7.934278 -2.887212  10.319570  0.567188      UnivLab   \n",
       "4    UnivLab_Tami  12.745281 -5.568999  15.372600  0.392011      UnivLab   \n",
       "\n",
       "  cv_mode                model  \n",
       "0       1  ExtraTreesRegressor  \n",
       "1       1  ExtraTreesRegressor  \n",
       "2       1  ExtraTreesRegressor  \n",
       "3       1  ExtraTreesRegressor  \n",
       "4       1  ExtraTreesRegressor  "
      ]
     },
     "execution_count": 9,
     "metadata": {},
     "output_type": "execute_result"
    }
   ],
   "source": [
    "result.head()"
   ]
  },
  {
   "cell_type": "code",
   "execution_count": 38,
   "metadata": {},
   "outputs": [],
   "source": [
    "consolidated = result[result.model=='ExtraTreesRegressor'].groupby(\"building\").mean()"
   ]
  },
  {
   "cell_type": "markdown",
   "metadata": {},
   "source": [
    "https://stackoverflow.com/questions/23248435/fill-between-two-vertical-lines-in-matplotlib"
   ]
  },
  {
   "cell_type": "code",
   "execution_count": 141,
   "metadata": {},
   "outputs": [
    {
     "data": {
      "image/png": "[encoded data removed]",
      "text/plain": [
       "<Figure size 432x288 with 1 Axes>"
      ]
     },
     "metadata": {},
     "output_type": "display_data"
    }
   ],
   "source": [
    "fig, ax = plt.subplots()\n",
    "\n",
    "consolidated.MAPE.sort_values().plot(logy=True)\n",
    "ax.axvspan(0, 330, alpha=0.2, color='green')\n",
    "ax.axvspan(331, 420, alpha=0.2, color='yellow')\n",
    "ax.axvspan(421, 482, alpha=0.2, color='red')\n",
    "\n",
    "ax.annotate('Zone 1', xy=(200, 100), xytext=(130, 2))\n",
    "ax.annotate('Zone 2', xy=(200, 100), xytext=(350, 2))\n",
    "ax.annotate('Zone 3', xy=(200, 100), xytext=(425, 2))\n",
    "\n",
    "\n",
    "ax.set_xlabel(\"Range of buildings implemented\")\n",
    "ax.set_ylabel(\"MAPE\")\n",
    "\n",
    "fig.tight_layout()\n",
    "fig.savefig(\"error_zones.pdf\")\n",
    "\n",
    "plt.show()\n"
   ]
  },
  {
   "cell_type": "code",
   "execution_count": 142,
   "metadata": {},
   "outputs": [
    {
     "data": {
      "text/plain": [
       "<matplotlib.axes._subplots.AxesSubplot at 0x1a2360ada0>"
      ]
     },
     "execution_count": 142,
     "metadata": {},
     "output_type": "execute_result"
    },
    {
     "data": {
      "image/png": "[encoded data removed]",
      "text/plain": [
       "<Figure size 432x288 with 1 Axes>"
      ]
     },
     "metadata": {},
     "output_type": "display_data"
    }
   ],
   "source": [
    "consolidated.MAPE.hist(bins=100)"
   ]
  },
  {
   "cell_type": "code",
   "execution_count": null,
   "metadata": {},
   "outputs": [],
   "source": []
  },
  {
   "cell_type": "code",
   "execution_count": 143,
   "metadata": {},
   "outputs": [],
   "source": [
    "error_groups = {}\n",
    "for error_scenario in [1, 5,10,20,40,80,160]:\n",
    "    error_scenario_list = []\n",
    "    for iteration in range(1,1000):\n",
    "        x = consolidated.sample(n=error_scenario).MAPE.median()\n",
    "        error_scenario_list.append(x)\n",
    "        \n",
    "    error_groups[error_scenario] = pd.Series(error_scenario_list)"
   ]
  },
  {
   "cell_type": "code",
   "execution_count": 144,
   "metadata": {},
   "outputs": [],
   "source": [
    "cohort_bar = pd.DataFrame(error_groups)"
   ]
  },
  {
   "cell_type": "code",
   "execution_count": 145,
   "metadata": {},
   "outputs": [],
   "source": [
    "cohort_bar_melted = cohort_bar.melt()"
   ]
  },
  {
   "cell_type": "code",
   "execution_count": 146,
   "metadata": {},
   "outputs": [
    {
     "data": {
      "text/html": [
       "<div>\n",
       "<style scoped>\n",
       "    .dataframe tbody tr th:only-of-type {\n",
       "        vertical-align: middle;\n",
       "    }\n",
       "\n",
       "    .dataframe tbody tr th {\n",
       "        vertical-align: top;\n",
       "    }\n",
       "\n",
       "    .dataframe thead th {\n",
       "        text-align: right;\n",
       "    }\n",
       "</style>\n",
       "<table border=\"1\" class=\"dataframe\">\n",
       "  <thead>\n",
       "    <tr style=\"text-align: right;\">\n",
       "      <th></th>\n",
       "      <th>variable</th>\n",
       "      <th>value</th>\n",
       "    </tr>\n",
       "  </thead>\n",
       "  <tbody>\n",
       "    <tr>\n",
       "      <th>0</th>\n",
       "      <td>1</td>\n",
       "      <td>12.304052</td>\n",
       "    </tr>\n",
       "    <tr>\n",
       "      <th>1</th>\n",
       "      <td>1</td>\n",
       "      <td>11.395104</td>\n",
       "    </tr>\n",
       "    <tr>\n",
       "      <th>2</th>\n",
       "      <td>1</td>\n",
       "      <td>12.481512</td>\n",
       "    </tr>\n",
       "    <tr>\n",
       "      <th>3</th>\n",
       "      <td>1</td>\n",
       "      <td>7.534916</td>\n",
       "    </tr>\n",
       "    <tr>\n",
       "      <th>4</th>\n",
       "      <td>1</td>\n",
       "      <td>252.826519</td>\n",
       "    </tr>\n",
       "  </tbody>\n",
       "</table>\n",
       "</div>"
      ],
      "text/plain": [
       "   variable       value\n",
       "0         1   12.304052\n",
       "1         1   11.395104\n",
       "2         1   12.481512\n",
       "3         1    7.534916\n",
       "4         1  252.826519"
      ]
     },
     "execution_count": 146,
     "metadata": {},
     "output_type": "execute_result"
    }
   ],
   "source": [
    "cohort_bar_melted.head()"
   ]
  },
  {
   "cell_type": "code",
   "execution_count": 147,
   "metadata": {},
   "outputs": [
    {
     "name": "stdout",
     "output_type": "stream",
     "text": [
      "<class 'pandas.core.frame.DataFrame'>\n",
      "RangeIndex: 6993 entries, 0 to 6992\n",
      "Data columns (total 2 columns):\n",
      "variable    6993 non-null int64\n",
      "value       6993 non-null float64\n",
      "dtypes: float64(1), int64(1)\n",
      "memory usage: 109.3 KB\n"
     ]
    }
   ],
   "source": [
    "cohort_bar_melted.info()"
   ]
  },
  {
   "cell_type": "code",
   "execution_count": 148,
   "metadata": {},
   "outputs": [
    {
     "data": {
      "image/png": "[encoded data removed]",
      "text/plain": [
       "<Figure size 432x288 with 1 Axes>"
      ]
     },
     "metadata": {},
     "output_type": "display_data"
    }
   ],
   "source": [
    "fig, ax = plt.subplots()\n",
    "\n",
    "ax = sns.barplot(x=\"value\", y=\"variable\", data=cohort_bar_melted, orient='h')\n",
    "ax.set_xlabel(\"Median MAPE of 1000 iterations of randomly selected buildings\")\n",
    "ax.set_ylabel(\"Size of building cohort\")\n",
    "\n",
    "fig.tight_layout()\n",
    "fig.savefig(\"cohort_size_analysis.pdf\")\n",
    "\n",
    "plt.show()"
   ]
  },
  {
   "cell_type": "raw",
   "metadata": {},
   "source": []
  }
 ],
 "metadata": {
  "kernelspec": {
   "display_name": "Python 3",
   "language": "python",
   "name": "python3"
  },
  "language_info": {
   "codemirror_mode": {
    "name": "ipython",
    "version": 3
   },
   "file_extension": ".py",
   "mimetype": "text/x-python",
   "name": "python",
   "nbconvert_exporter": "python",
   "pygments_lexer": "ipython3",
   "version": "3.6.8"
  }
 },
 "nbformat": 4,
 "nbformat_minor": 2
}
