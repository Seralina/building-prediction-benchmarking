{
 "cells": [
  {
   "cell_type": "code",
   "execution_count": 2,
   "metadata": {},
   "outputs": [],
   "source": [
    "import pandas as pd\n",
    "import os\n",
    "import numpy as np\n",
    "from sklearn.metrics import r2_score"
   ]
  },
  {
   "cell_type": "code",
   "execution_count": 3,
   "metadata": {},
   "outputs": [],
   "source": [
    "meta = pd.read_csv(\"../input/meta_open.csv\", index_col='uid', parse_dates=[\"datastart\",\"dataend\"], dayfirst=True)\n",
    "temporal = pd.read_csv(\"../input/temp_open_utc_complete.csv\", index_col='timestamp', parse_dates=True).tz_localize('utc')"
   ]
  },
  {
   "cell_type": "code",
   "execution_count": 4,
   "metadata": {},
   "outputs": [],
   "source": [
    "buildingnames = temporal.columns[temporal.columns.str.contains(\"Office\")]"
   ]
  },
  {
   "cell_type": "code",
   "execution_count": 5,
   "metadata": {},
   "outputs": [
    {
     "data": {
      "text/plain": [
       "Index(['Office_Cristina', 'Office_Jesus', 'Office_Jett', 'Office_Jerry',\n",
       "       'Office_Lesa', 'Office_Jackie', 'Office_Marla', 'Office_Maryann',\n",
       "       'Office_Myron', 'Office_Conrad',\n",
       "       ...\n",
       "       'Office_Ellie', 'Office_Erik', 'Office_Evelyn', 'Office_Emer',\n",
       "       'Office_Elena', 'Office_Emerald', 'Office_Ellis', 'Office_Elliot',\n",
       "       'Office_Eddie', 'Office_Georgia'],\n",
       "      dtype='object', length=156)"
      ]
     },
     "execution_count": 5,
     "metadata": {},
     "output_type": "execute_result"
    }
   ],
   "source": [
    "buildingnames"
   ]
  },
  {
   "cell_type": "code",
   "execution_count": 6,
   "metadata": {},
   "outputs": [
    {
     "name": "stdout",
     "output_type": "stream",
     "text": [
      "Modelling: Office_Cristina\n",
      "Weatherfile: weather2.csv\n"
     ]
    },
    {
     "name": "stderr",
     "output_type": "stream",
     "text": [
      "C:\\Users\\kitkat\\Anaconda3\\lib\\site-packages\\sklearn\\ensemble\\weight_boosting.py:29: DeprecationWarning: numpy.core.umath_tests is an internal NumPy module and should not be imported. It will be removed in a future NumPy release.\n",
      "  from numpy.core.umath_tests import inner1d\n"
     ]
    },
    {
     "name": "stdout",
     "output_type": "stream",
     "text": [
      "MAPE: 16.23432854530993\n",
      "NMBE: 0.6764609008623663\n",
      "CVRSME: 19.45383065676439\n",
      "R SQUARED: 0.6213482699709816\n",
      "Modelling: Office_Jesus\n",
      "Weatherfile: weather1.csv\n",
      "MAPE: 137.9489491557483\n",
      "NMBE: 7.9181051672897835\n",
      "CVRSME: 29.300056711662194\n",
      "R SQUARED: 0.4191436900261518\n"
     ]
    }
   ],
   "source": [
    "MAPE_data = {}\n",
    "RSQUARED_data = {}\n",
    "NMBE_data = {}\n",
    "CVRSME_data = {}\n",
    "\n",
    "for singlebuilding in buildingnames[:2]:\n",
    "    print(\"Modelling: \"+singlebuilding)\n",
    "#     try:\n",
    "    # Get Data\n",
    "    single_timezone = meta.T[singlebuilding].timezone\n",
    "    single_start = meta.T[singlebuilding].datastart\n",
    "    single_end = meta.T[singlebuilding].dataend\n",
    "    single_building_data = pd.DataFrame(temporal[singlebuilding].tz_convert(single_timezone).truncate(before=single_start,after=single_end))\n",
    "\n",
    "    # Split into Training and Testing\n",
    "    trainingdata = single_building_data[single_building_data.index.month.isin([\"1\",\"2\",\"3\",\"5\",\"6\",\"7\",\"9\",\"10\",\"11\"])]\n",
    "    testdata = single_building_data[single_building_data.index.month.isin([\"4\",\"8\",\"12\"])]\n",
    "\n",
    "    # Get weather file\n",
    "    weatherfilename = meta.T[singlebuilding].newweatherfilename\n",
    "    print(\"Weatherfile: \"+weatherfilename)\n",
    "    weather = pd.read_csv(os.path.join(\"../input/\",weatherfilename),index_col='timestamp', parse_dates=True, na_values='-9999')\n",
    "    weather = weather.tz_localize(single_timezone, ambiguous = 'infer')\n",
    "    outdoor_temp = pd.DataFrame(weather[[col for col in weather.columns if 'Temperature' in col]]).resample(\"H\").mean()\n",
    "    outdoor_temp = outdoor_temp.reindex(pd.DatetimeIndex(start=outdoor_temp.index[0], periods=len(single_building_data), freq=\"H\")).fillna(method='ffill').fillna(method='bfill')\n",
    "\n",
    "    # Create training data array\n",
    "    train_features = np.array(pd.concat([pd.get_dummies(trainingdata.index.hour),\n",
    "                                         pd.get_dummies(trainingdata.index.dayofweek),\n",
    "               pd.Series(outdoor_temp[outdoor_temp.index.month.isin([\"1\",\"2\",\"3\",\"5\",\"6\",\"7\",\"9\",\"10\",\"11\"])].TemperatureC.values)], axis=1))\n",
    "    train_labels = np.array(trainingdata[singlebuilding].values)\n",
    "\n",
    "    # Create test data array\n",
    "    test_features = np.array(pd.concat([pd.get_dummies(testdata.index.hour),\n",
    "                                         pd.get_dummies(testdata.index.dayofweek),\n",
    "               pd.Series(outdoor_temp[outdoor_temp.index.month.isin([\"4\",\"8\",\"12\"])].TemperatureC.values)], axis=1))\n",
    "    test_labels = np.array(testdata[singlebuilding].values)\n",
    "    \n",
    "    # Import the model we are using\n",
    "    from sklearn.ensemble import GradientBoostingRegressor\n",
    "    # Make model\n",
    "    model = GradientBoostingRegressor(n_estimators = 1000, random_state = 42)\n",
    "    # Train the model on training data\n",
    "    model.fit(train_features, train_labels);\n",
    "\n",
    "    # Use the forest's predict method on the test data\n",
    "    predictions = model.predict(test_features)\n",
    "    \n",
    "    # Calculate the absolute errors\n",
    "    errors = abs(predictions - test_labels)\n",
    "\n",
    "    # Calculate mean absolute percentage error (MAPE) and add to list\n",
    "    MAPE = 100 * np.mean((errors / test_labels))\n",
    "    NMBE = 100 * (sum(test_labels - predictions) / (pd.Series(test_labels).count() * np.mean(test_labels)))\n",
    "    CVRSME = 100 * ((sum((test_labels - predictions)**2) / (pd.Series(test_labels).count()-1))**(0.5)) / np.mean(test_labels)\n",
    "    RSQUARED = r2_score(test_labels, predictions)\n",
    "\n",
    "    print(\"MAPE: \"+str(MAPE))\n",
    "    print(\"NMBE: \"+str(NMBE))\n",
    "    print(\"CVRSME: \"+str(CVRSME))\n",
    "    print(\"R SQUARED: \"+str(RSQUARED))\n",
    "\n",
    "    MAPE_data[singlebuilding] = MAPE\n",
    "    NMBE_data[singlebuilding] = NMBE\n",
    "    CVRSME_data[singlebuilding] = CVRSME\n",
    "    RSQUARED_data[singlebuilding] = RSQUARED\n",
    "        \n",
    "#     except:\n",
    "#         print(\"There was a problem\")\n"
   ]
  },
  {
   "cell_type": "code",
   "execution_count": 7,
   "metadata": {},
   "outputs": [],
   "source": [
    "metrics = pd.DataFrame([MAPE_data, NMBE_data, CVRSME_data, RSQUARED_data]).T\n",
    "metrics.columns = [\"MAPE\", \"NMBE\", \"CVRSME\", \"RSQUARED\"]"
   ]
  },
  {
   "cell_type": "code",
   "execution_count": 8,
   "metadata": {},
   "outputs": [
    {
     "data": {
      "text/html": [
       "<div>\n",
       "<style scoped>\n",
       "    .dataframe tbody tr th:only-of-type {\n",
       "        vertical-align: middle;\n",
       "    }\n",
       "\n",
       "    .dataframe tbody tr th {\n",
       "        vertical-align: top;\n",
       "    }\n",
       "\n",
       "    .dataframe thead th {\n",
       "        text-align: right;\n",
       "    }\n",
       "</style>\n",
       "<table border=\"1\" class=\"dataframe\">\n",
       "  <thead>\n",
       "    <tr style=\"text-align: right;\">\n",
       "      <th></th>\n",
       "      <th>MAPE</th>\n",
       "      <th>NMBE</th>\n",
       "      <th>CVRSME</th>\n",
       "      <th>RSQUARED</th>\n",
       "    </tr>\n",
       "  </thead>\n",
       "  <tbody>\n",
       "    <tr>\n",
       "      <th>Office_Cristina</th>\n",
       "      <td>16.234329</td>\n",
       "      <td>0.676461</td>\n",
       "      <td>19.453831</td>\n",
       "      <td>0.621348</td>\n",
       "    </tr>\n",
       "    <tr>\n",
       "      <th>Office_Jesus</th>\n",
       "      <td>137.948949</td>\n",
       "      <td>7.918105</td>\n",
       "      <td>29.300057</td>\n",
       "      <td>0.419144</td>\n",
       "    </tr>\n",
       "  </tbody>\n",
       "</table>\n",
       "</div>"
      ],
      "text/plain": [
       "                       MAPE      NMBE     CVRSME  RSQUARED\n",
       "Office_Cristina   16.234329  0.676461  19.453831  0.621348\n",
       "Office_Jesus     137.948949  7.918105  29.300057  0.419144"
      ]
     },
     "execution_count": 8,
     "metadata": {},
     "output_type": "execute_result"
    }
   ],
   "source": [
    "metrics"
   ]
  },
  {
   "cell_type": "code",
   "execution_count": 9,
   "metadata": {},
   "outputs": [],
   "source": [
    "metrics.to_csv(\"GradientBoostingRegressor_metrics.csv\")"
   ]
  },
  {
   "cell_type": "code",
   "execution_count": null,
   "metadata": {},
   "outputs": [],
   "source": []
  }
 ],
 "metadata": {
  "kernelspec": {
   "display_name": "Python 3",
   "language": "python",
   "name": "python3"
  },
  "language_info": {
   "codemirror_mode": {
    "name": "ipython",
    "version": 3
   },
   "file_extension": ".py",
   "mimetype": "text/x-python",
   "name": "python",
   "nbconvert_exporter": "python",
   "pygments_lexer": "ipython3",
   "version": "3.7.0"
  }
 },
 "nbformat": 4,
 "nbformat_minor": 2
}
