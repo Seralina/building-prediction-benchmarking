{
 "cells": [
  {
   "cell_type": "markdown",
   "metadata": {
    "_cell_guid": "b1076dfc-b9ad-4769-8c92-a6c4dae69d19",
    "_uuid": "8f2839f25d086af736a60e9eeb907d3b93b6e0e5"
   },
   "source": [
    "# Office Building Energy Prediction Demonstration - Random Forest\n",
    "\n",
    "This notebook is a demonstration of the use of the Building Data Genome Project Data to illustrate how a prediction competition using whole building electrical meter data could be set up. \n",
    "\n",
    "The open data set we're using for this demonstration is the Building Data Genome Project (https://github.com/buds-lab/the-building-data-genome-project)\n",
    "\n",
    "First we'll load the *meta* data and take a look around - these data show the diversity of building types in this machine learning exercise\n"
   ]
  },
  {
   "cell_type": "code",
   "execution_count": 2,
   "metadata": {
    "_cell_guid": "79c7e3d0-c299-4dcb-8224-4455121ee9b0",
    "_uuid": "d629ff2d2480ee46fbb7e2d37f6b5fab8052498a"
   },
   "outputs": [],
   "source": [
    "import pandas as pd\n",
    "import os\n",
    "import numpy as np"
   ]
  },
  {
   "cell_type": "code",
   "execution_count": 3,
   "metadata": {
    "_uuid": "4d91242f6ecea5d08f0b3dc36391c5ea8e716ed8"
   },
   "outputs": [],
   "source": [
    "meta = pd.read_csv(\"../input/meta_open.csv\", index_col='uid', parse_dates=[\"datastart\",\"dataend\"], dayfirst=True)"
   ]
  },
  {
   "cell_type": "code",
   "execution_count": 4,
   "metadata": {
    "_uuid": "3babc475c81dfd0e5487d706c384b550661195d9"
   },
   "outputs": [
    {
     "data": {
      "text/html": [
       "<div>\n",
       "<style scoped>\n",
       "    .dataframe tbody tr th:only-of-type {\n",
       "        vertical-align: middle;\n",
       "    }\n",
       "\n",
       "    .dataframe tbody tr th {\n",
       "        vertical-align: top;\n",
       "    }\n",
       "\n",
       "    .dataframe thead th {\n",
       "        text-align: right;\n",
       "    }\n",
       "</style>\n",
       "<table border=\"1\" class=\"dataframe\">\n",
       "  <thead>\n",
       "    <tr style=\"text-align: right;\">\n",
       "      <th></th>\n",
       "      <th>dataend</th>\n",
       "      <th>datastart</th>\n",
       "      <th>energystarscore</th>\n",
       "      <th>heatingtype</th>\n",
       "      <th>industry</th>\n",
       "      <th>mainheatingtype</th>\n",
       "      <th>numberoffloors</th>\n",
       "      <th>occupants</th>\n",
       "      <th>primaryspaceusage</th>\n",
       "      <th>rating</th>\n",
       "      <th>sqft</th>\n",
       "      <th>sqm</th>\n",
       "      <th>subindustry</th>\n",
       "      <th>timezone</th>\n",
       "      <th>yearbuilt</th>\n",
       "      <th>nickname</th>\n",
       "      <th>primaryspaceuse_abbrev</th>\n",
       "      <th>newweatherfilename</th>\n",
       "    </tr>\n",
       "    <tr>\n",
       "      <th>uid</th>\n",
       "      <th></th>\n",
       "      <th></th>\n",
       "      <th></th>\n",
       "      <th></th>\n",
       "      <th></th>\n",
       "      <th></th>\n",
       "      <th></th>\n",
       "      <th></th>\n",
       "      <th></th>\n",
       "      <th></th>\n",
       "      <th></th>\n",
       "      <th></th>\n",
       "      <th></th>\n",
       "      <th></th>\n",
       "      <th></th>\n",
       "      <th></th>\n",
       "      <th></th>\n",
       "      <th></th>\n",
       "    </tr>\n",
       "  </thead>\n",
       "  <tbody>\n",
       "    <tr>\n",
       "      <th>PrimClass_Everett</th>\n",
       "      <td>2012-12-31 23:00:00</td>\n",
       "      <td>2012-01-01</td>\n",
       "      <td>NaN</td>\n",
       "      <td>NaN</td>\n",
       "      <td>Education</td>\n",
       "      <td>NaN</td>\n",
       "      <td>NaN</td>\n",
       "      <td>NaN</td>\n",
       "      <td>Primary/Secondary Classroom</td>\n",
       "      <td>NaN</td>\n",
       "      <td>105530.0000</td>\n",
       "      <td>9804.053590</td>\n",
       "      <td>Primary/Secondary School</td>\n",
       "      <td>America/New_York</td>\n",
       "      <td>NaN</td>\n",
       "      <td>Everett</td>\n",
       "      <td>PrimClass</td>\n",
       "      <td>weather12.csv</td>\n",
       "    </tr>\n",
       "    <tr>\n",
       "      <th>UnivClass_Clifford</th>\n",
       "      <td>2015-12-31 23:00:00</td>\n",
       "      <td>2015-01-01</td>\n",
       "      <td>NaN</td>\n",
       "      <td>NaN</td>\n",
       "      <td>Education</td>\n",
       "      <td>NaN</td>\n",
       "      <td>NaN</td>\n",
       "      <td>NaN</td>\n",
       "      <td>College Classroom</td>\n",
       "      <td>NaN</td>\n",
       "      <td>56969.0000</td>\n",
       "      <td>5292.591007</td>\n",
       "      <td>College/University</td>\n",
       "      <td>America/New_York</td>\n",
       "      <td>1967</td>\n",
       "      <td>Clifford</td>\n",
       "      <td>UnivClass</td>\n",
       "      <td>weather2.csv</td>\n",
       "    </tr>\n",
       "    <tr>\n",
       "      <th>Office_Elizabeth</th>\n",
       "      <td>2012-12-31 23:00:00</td>\n",
       "      <td>2012-01-01</td>\n",
       "      <td>NaN</td>\n",
       "      <td>NaN</td>\n",
       "      <td>Commercial Property</td>\n",
       "      <td>NaN</td>\n",
       "      <td>NaN</td>\n",
       "      <td>NaN</td>\n",
       "      <td>Office</td>\n",
       "      <td>NaN</td>\n",
       "      <td>294651.0000</td>\n",
       "      <td>27373.961850</td>\n",
       "      <td>Commercial Real Estate</td>\n",
       "      <td>America/Los_Angeles</td>\n",
       "      <td>NaN</td>\n",
       "      <td>Elizabeth</td>\n",
       "      <td>Office</td>\n",
       "      <td>weather22.csv</td>\n",
       "    </tr>\n",
       "    <tr>\n",
       "      <th>Office_Ellie</th>\n",
       "      <td>2012-12-31 23:00:00</td>\n",
       "      <td>2012-01-01</td>\n",
       "      <td>NaN</td>\n",
       "      <td>NaN</td>\n",
       "      <td>Commercial Property</td>\n",
       "      <td>NaN</td>\n",
       "      <td>NaN</td>\n",
       "      <td>NaN</td>\n",
       "      <td>Office</td>\n",
       "      <td>NaN</td>\n",
       "      <td>496517.0000</td>\n",
       "      <td>46127.918850</td>\n",
       "      <td>Bank/Financial Services</td>\n",
       "      <td>America/Los_Angeles</td>\n",
       "      <td>NaN</td>\n",
       "      <td>Ellie</td>\n",
       "      <td>Office</td>\n",
       "      <td>weather28.csv</td>\n",
       "    </tr>\n",
       "    <tr>\n",
       "      <th>PrimClass_Elisabeth</th>\n",
       "      <td>2012-12-31 23:00:00</td>\n",
       "      <td>2012-01-01</td>\n",
       "      <td>NaN</td>\n",
       "      <td>NaN</td>\n",
       "      <td>Education</td>\n",
       "      <td>NaN</td>\n",
       "      <td>NaN</td>\n",
       "      <td>NaN</td>\n",
       "      <td>Primary/Secondary Classroom</td>\n",
       "      <td>NaN</td>\n",
       "      <td>233062.0000</td>\n",
       "      <td>21652.158990</td>\n",
       "      <td>Primary/Secondary School</td>\n",
       "      <td>America/New_York</td>\n",
       "      <td>NaN</td>\n",
       "      <td>Elisabeth</td>\n",
       "      <td>PrimClass</td>\n",
       "      <td>weather23.csv</td>\n",
       "    </tr>\n",
       "    <tr>\n",
       "      <th>Office_Cristina</th>\n",
       "      <td>2015-12-31 23:00:00</td>\n",
       "      <td>2015-01-01</td>\n",
       "      <td>NaN</td>\n",
       "      <td>NaN</td>\n",
       "      <td>Education</td>\n",
       "      <td>NaN</td>\n",
       "      <td>NaN</td>\n",
       "      <td>NaN</td>\n",
       "      <td>Office</td>\n",
       "      <td>NaN</td>\n",
       "      <td>92271.0000</td>\n",
       "      <td>8572.252713</td>\n",
       "      <td>College/University</td>\n",
       "      <td>America/New_York</td>\n",
       "      <td>2001</td>\n",
       "      <td>Cristina</td>\n",
       "      <td>Office</td>\n",
       "      <td>weather2.csv</td>\n",
       "    </tr>\n",
       "    <tr>\n",
       "      <th>PrimClass_Jolie</th>\n",
       "      <td>2015-11-30 23:00:00</td>\n",
       "      <td>2014-12-01</td>\n",
       "      <td>NaN</td>\n",
       "      <td>Gas</td>\n",
       "      <td>Education</td>\n",
       "      <td>Gas</td>\n",
       "      <td>2.0</td>\n",
       "      <td>212.0</td>\n",
       "      <td>Primary/Secondary Classroom</td>\n",
       "      <td>C</td>\n",
       "      <td>31505.9353</td>\n",
       "      <td>2927.000000</td>\n",
       "      <td>Primary/Secondary School</td>\n",
       "      <td>Europe/London</td>\n",
       "      <td>pre 1919</td>\n",
       "      <td>Jolie</td>\n",
       "      <td>PrimClass</td>\n",
       "      <td>weather1.csv</td>\n",
       "    </tr>\n",
       "    <tr>\n",
       "      <th>PrimClass_Jaylin</th>\n",
       "      <td>2015-11-30 23:00:00</td>\n",
       "      <td>2014-12-01</td>\n",
       "      <td>NaN</td>\n",
       "      <td>Gas</td>\n",
       "      <td>Education</td>\n",
       "      <td>Gas</td>\n",
       "      <td>2.0</td>\n",
       "      <td>219.0</td>\n",
       "      <td>Primary/Secondary Classroom</td>\n",
       "      <td>C</td>\n",
       "      <td>47070.5347</td>\n",
       "      <td>4373.000000</td>\n",
       "      <td>Primary/Secondary School</td>\n",
       "      <td>Europe/London</td>\n",
       "      <td>1919-1945</td>\n",
       "      <td>Jaylin</td>\n",
       "      <td>PrimClass</td>\n",
       "      <td>weather1.csv</td>\n",
       "    </tr>\n",
       "    <tr>\n",
       "      <th>Office_Jesus</th>\n",
       "      <td>2015-11-30 23:00:00</td>\n",
       "      <td>2014-12-01</td>\n",
       "      <td>NaN</td>\n",
       "      <td>Gas</td>\n",
       "      <td>Government</td>\n",
       "      <td>Gas</td>\n",
       "      <td>1.0</td>\n",
       "      <td>40.0</td>\n",
       "      <td>Office</td>\n",
       "      <td>C</td>\n",
       "      <td>42646.5718</td>\n",
       "      <td>3962.000000</td>\n",
       "      <td>City, County, State</td>\n",
       "      <td>Europe/London</td>\n",
       "      <td>Post 1976</td>\n",
       "      <td>Jesus</td>\n",
       "      <td>Office</td>\n",
       "      <td>weather1.csv</td>\n",
       "    </tr>\n",
       "    <tr>\n",
       "      <th>PrimClass_Esmeralda</th>\n",
       "      <td>2012-12-31 23:00:00</td>\n",
       "      <td>2012-01-01</td>\n",
       "      <td>NaN</td>\n",
       "      <td>NaN</td>\n",
       "      <td>Education</td>\n",
       "      <td>NaN</td>\n",
       "      <td>NaN</td>\n",
       "      <td>NaN</td>\n",
       "      <td>Primary/Secondary Classroom</td>\n",
       "      <td>NaN</td>\n",
       "      <td>276443.0000</td>\n",
       "      <td>25682.384030</td>\n",
       "      <td>Primary/Secondary School</td>\n",
       "      <td>America/New_York</td>\n",
       "      <td>NaN</td>\n",
       "      <td>Esmeralda</td>\n",
       "      <td>PrimClass</td>\n",
       "      <td>weather17.csv</td>\n",
       "    </tr>\n",
       "    <tr>\n",
       "      <th>PrimClass_Eoghan</th>\n",
       "      <td>2012-12-31 23:00:00</td>\n",
       "      <td>2012-01-01</td>\n",
       "      <td>NaN</td>\n",
       "      <td>NaN</td>\n",
       "      <td>Education</td>\n",
       "      <td>NaN</td>\n",
       "      <td>NaN</td>\n",
       "      <td>NaN</td>\n",
       "      <td>Primary/Secondary Classroom</td>\n",
       "      <td>NaN</td>\n",
       "      <td>315404.0000</td>\n",
       "      <td>29301.977810</td>\n",
       "      <td>Primary/Secondary School</td>\n",
       "      <td>America/New_York</td>\n",
       "      <td>NaN</td>\n",
       "      <td>Eoghan</td>\n",
       "      <td>PrimClass</td>\n",
       "      <td>weather14.csv</td>\n",
       "    </tr>\n",
       "    <tr>\n",
       "      <th>PrimClass_Edwin</th>\n",
       "      <td>2012-12-31 23:00:00</td>\n",
       "      <td>2012-01-01</td>\n",
       "      <td>NaN</td>\n",
       "      <td>NaN</td>\n",
       "      <td>Education</td>\n",
       "      <td>NaN</td>\n",
       "      <td>NaN</td>\n",
       "      <td>NaN</td>\n",
       "      <td>Primary/Secondary Classroom</td>\n",
       "      <td>NaN</td>\n",
       "      <td>77247.0000</td>\n",
       "      <td>7176.478041</td>\n",
       "      <td>Primary/Secondary School</td>\n",
       "      <td>America/Denver</td>\n",
       "      <td>NaN</td>\n",
       "      <td>Edwin</td>\n",
       "      <td>PrimClass</td>\n",
       "      <td>weather35.csv</td>\n",
       "    </tr>\n",
       "    <tr>\n",
       "      <th>PrimClass_Eli</th>\n",
       "      <td>2012-12-31 23:00:00</td>\n",
       "      <td>2012-01-01</td>\n",
       "      <td>NaN</td>\n",
       "      <td>NaN</td>\n",
       "      <td>Education</td>\n",
       "      <td>NaN</td>\n",
       "      <td>NaN</td>\n",
       "      <td>NaN</td>\n",
       "      <td>Primary/Secondary Classroom</td>\n",
       "      <td>NaN</td>\n",
       "      <td>108405.0000</td>\n",
       "      <td>10071.149720</td>\n",
       "      <td>Primary/Secondary School</td>\n",
       "      <td>America/New_York</td>\n",
       "      <td>NaN</td>\n",
       "      <td>Eli</td>\n",
       "      <td>PrimClass</td>\n",
       "      <td>weather12.csv</td>\n",
       "    </tr>\n",
       "    <tr>\n",
       "      <th>PrimClass_Ethel</th>\n",
       "      <td>2012-12-31 23:00:00</td>\n",
       "      <td>2012-01-01</td>\n",
       "      <td>NaN</td>\n",
       "      <td>NaN</td>\n",
       "      <td>Education</td>\n",
       "      <td>NaN</td>\n",
       "      <td>NaN</td>\n",
       "      <td>NaN</td>\n",
       "      <td>Primary/Secondary Classroom</td>\n",
       "      <td>NaN</td>\n",
       "      <td>92032.0000</td>\n",
       "      <td>8550.048896</td>\n",
       "      <td>Primary/Secondary School</td>\n",
       "      <td>America/Denver</td>\n",
       "      <td>NaN</td>\n",
       "      <td>Ethel</td>\n",
       "      <td>PrimClass</td>\n",
       "      <td>weather18.csv</td>\n",
       "    </tr>\n",
       "    <tr>\n",
       "      <th>PrimClass_Ernesto</th>\n",
       "      <td>2012-12-31 23:00:00</td>\n",
       "      <td>2012-01-01</td>\n",
       "      <td>NaN</td>\n",
       "      <td>NaN</td>\n",
       "      <td>Education</td>\n",
       "      <td>NaN</td>\n",
       "      <td>NaN</td>\n",
       "      <td>NaN</td>\n",
       "      <td>Primary/Secondary Classroom</td>\n",
       "      <td>NaN</td>\n",
       "      <td>72333.0000</td>\n",
       "      <td>6719.952699</td>\n",
       "      <td>Primary/Secondary School</td>\n",
       "      <td>America/Denver</td>\n",
       "      <td>NaN</td>\n",
       "      <td>Ernesto</td>\n",
       "      <td>PrimClass</td>\n",
       "      <td>weather18.csv</td>\n",
       "    </tr>\n",
       "    <tr>\n",
       "      <th>PrimClass_Emanuela</th>\n",
       "      <td>2012-12-31 23:00:00</td>\n",
       "      <td>2012-01-01</td>\n",
       "      <td>NaN</td>\n",
       "      <td>NaN</td>\n",
       "      <td>Education</td>\n",
       "      <td>NaN</td>\n",
       "      <td>NaN</td>\n",
       "      <td>NaN</td>\n",
       "      <td>Primary/Secondary Classroom</td>\n",
       "      <td>NaN</td>\n",
       "      <td>95132.0000</td>\n",
       "      <td>8838.048196</td>\n",
       "      <td>Primary/Secondary School</td>\n",
       "      <td>America/Chicago</td>\n",
       "      <td>NaN</td>\n",
       "      <td>Emanuela</td>\n",
       "      <td>PrimClass</td>\n",
       "      <td>weather26.csv</td>\n",
       "    </tr>\n",
       "    <tr>\n",
       "      <th>PrimClass_Emilio</th>\n",
       "      <td>2012-12-31 23:00:00</td>\n",
       "      <td>2012-01-01</td>\n",
       "      <td>NaN</td>\n",
       "      <td>NaN</td>\n",
       "      <td>Education</td>\n",
       "      <td>NaN</td>\n",
       "      <td>NaN</td>\n",
       "      <td>NaN</td>\n",
       "      <td>Primary/Secondary Classroom</td>\n",
       "      <td>NaN</td>\n",
       "      <td>105215.0000</td>\n",
       "      <td>9774.789145</td>\n",
       "      <td>Primary/Secondary School</td>\n",
       "      <td>America/New_York</td>\n",
       "      <td>NaN</td>\n",
       "      <td>Emilio</td>\n",
       "      <td>PrimClass</td>\n",
       "      <td>weather12.csv</td>\n",
       "    </tr>\n",
       "    <tr>\n",
       "      <th>PrimClass_Eleanor</th>\n",
       "      <td>2012-12-31 23:00:00</td>\n",
       "      <td>2012-01-01</td>\n",
       "      <td>NaN</td>\n",
       "      <td>NaN</td>\n",
       "      <td>Education</td>\n",
       "      <td>NaN</td>\n",
       "      <td>NaN</td>\n",
       "      <td>NaN</td>\n",
       "      <td>Primary/Secondary Classroom</td>\n",
       "      <td>NaN</td>\n",
       "      <td>81681.0000</td>\n",
       "      <td>7588.409943</td>\n",
       "      <td>Primary/Secondary School</td>\n",
       "      <td>America/New_York</td>\n",
       "      <td>NaN</td>\n",
       "      <td>Eleanor</td>\n",
       "      <td>PrimClass</td>\n",
       "      <td>weather24.csv</td>\n",
       "    </tr>\n",
       "    <tr>\n",
       "      <th>PrimClass_Ezekiel</th>\n",
       "      <td>2012-12-31 23:00:00</td>\n",
       "      <td>2012-01-01</td>\n",
       "      <td>NaN</td>\n",
       "      <td>NaN</td>\n",
       "      <td>Education</td>\n",
       "      <td>NaN</td>\n",
       "      <td>NaN</td>\n",
       "      <td>NaN</td>\n",
       "      <td>Primary/Secondary Classroom</td>\n",
       "      <td>NaN</td>\n",
       "      <td>153699.0000</td>\n",
       "      <td>14279.098200</td>\n",
       "      <td>Primary/Secondary School</td>\n",
       "      <td>America/New_York</td>\n",
       "      <td>NaN</td>\n",
       "      <td>Ezekiel</td>\n",
       "      <td>PrimClass</td>\n",
       "      <td>weather29.csv</td>\n",
       "    </tr>\n",
       "    <tr>\n",
       "      <th>PrimClass_Elliott</th>\n",
       "      <td>2012-12-31 23:00:00</td>\n",
       "      <td>2012-01-01</td>\n",
       "      <td>NaN</td>\n",
       "      <td>NaN</td>\n",
       "      <td>Education</td>\n",
       "      <td>NaN</td>\n",
       "      <td>NaN</td>\n",
       "      <td>NaN</td>\n",
       "      <td>Primary/Secondary Classroom</td>\n",
       "      <td>NaN</td>\n",
       "      <td>217241.0000</td>\n",
       "      <td>20182.340620</td>\n",
       "      <td>Primary/Secondary School</td>\n",
       "      <td>America/New_York</td>\n",
       "      <td>NaN</td>\n",
       "      <td>Elliott</td>\n",
       "      <td>PrimClass</td>\n",
       "      <td>weather15.csv</td>\n",
       "    </tr>\n",
       "    <tr>\n",
       "      <th>PrimClass_Ellen</th>\n",
       "      <td>2012-12-31 23:00:00</td>\n",
       "      <td>2012-01-01</td>\n",
       "      <td>NaN</td>\n",
       "      <td>NaN</td>\n",
       "      <td>Education</td>\n",
       "      <td>NaN</td>\n",
       "      <td>NaN</td>\n",
       "      <td>NaN</td>\n",
       "      <td>Primary/Secondary Classroom</td>\n",
       "      <td>NaN</td>\n",
       "      <td>79503.0000</td>\n",
       "      <td>7386.067209</td>\n",
       "      <td>Primary/Secondary School</td>\n",
       "      <td>America/Chicago</td>\n",
       "      <td>NaN</td>\n",
       "      <td>Ellen</td>\n",
       "      <td>PrimClass</td>\n",
       "      <td>weather19.csv</td>\n",
       "    </tr>\n",
       "    <tr>\n",
       "      <th>PrimClass_Evie</th>\n",
       "      <td>2012-12-31 23:00:00</td>\n",
       "      <td>2012-01-01</td>\n",
       "      <td>NaN</td>\n",
       "      <td>NaN</td>\n",
       "      <td>Education</td>\n",
       "      <td>NaN</td>\n",
       "      <td>NaN</td>\n",
       "      <td>NaN</td>\n",
       "      <td>Primary/Secondary Classroom</td>\n",
       "      <td>NaN</td>\n",
       "      <td>197266.0000</td>\n",
       "      <td>18326.603200</td>\n",
       "      <td>Primary/Secondary School</td>\n",
       "      <td>America/Chicago</td>\n",
       "      <td>NaN</td>\n",
       "      <td>Evie</td>\n",
       "      <td>PrimClass</td>\n",
       "      <td>weather11.csv</td>\n",
       "    </tr>\n",
       "    <tr>\n",
       "      <th>PrimClass_Elijah</th>\n",
       "      <td>2012-12-31 23:00:00</td>\n",
       "      <td>2012-01-01</td>\n",
       "      <td>NaN</td>\n",
       "      <td>NaN</td>\n",
       "      <td>Education</td>\n",
       "      <td>NaN</td>\n",
       "      <td>NaN</td>\n",
       "      <td>NaN</td>\n",
       "      <td>Primary/Secondary Classroom</td>\n",
       "      <td>NaN</td>\n",
       "      <td>94150.0000</td>\n",
       "      <td>8746.817450</td>\n",
       "      <td>Primary/Secondary School</td>\n",
       "      <td>America/New_York</td>\n",
       "      <td>NaN</td>\n",
       "      <td>Elijah</td>\n",
       "      <td>PrimClass</td>\n",
       "      <td>weather14.csv</td>\n",
       "    </tr>\n",
       "    <tr>\n",
       "      <th>PrimClass_Ezra</th>\n",
       "      <td>2012-12-31 23:00:00</td>\n",
       "      <td>2012-01-01</td>\n",
       "      <td>NaN</td>\n",
       "      <td>NaN</td>\n",
       "      <td>Education</td>\n",
       "      <td>NaN</td>\n",
       "      <td>NaN</td>\n",
       "      <td>NaN</td>\n",
       "      <td>Primary/Secondary Classroom</td>\n",
       "      <td>NaN</td>\n",
       "      <td>92179.0000</td>\n",
       "      <td>8563.705637</td>\n",
       "      <td>Primary/Secondary School</td>\n",
       "      <td>America/New_York</td>\n",
       "      <td>NaN</td>\n",
       "      <td>Ezra</td>\n",
       "      <td>PrimClass</td>\n",
       "      <td>weather17.csv</td>\n",
       "    </tr>\n",
       "    <tr>\n",
       "      <th>PrimClass_Edmund</th>\n",
       "      <td>2012-12-31 23:00:00</td>\n",
       "      <td>2012-01-01</td>\n",
       "      <td>NaN</td>\n",
       "      <td>NaN</td>\n",
       "      <td>Education</td>\n",
       "      <td>NaN</td>\n",
       "      <td>NaN</td>\n",
       "      <td>NaN</td>\n",
       "      <td>Primary/Secondary Classroom</td>\n",
       "      <td>NaN</td>\n",
       "      <td>86867.0000</td>\n",
       "      <td>8070.204901</td>\n",
       "      <td>Primary/Secondary School</td>\n",
       "      <td>America/New_York</td>\n",
       "      <td>NaN</td>\n",
       "      <td>Edmund</td>\n",
       "      <td>PrimClass</td>\n",
       "      <td>weather15.csv</td>\n",
       "    </tr>\n",
       "    <tr>\n",
       "      <th>PrimClass_Eva</th>\n",
       "      <td>2012-12-31 23:00:00</td>\n",
       "      <td>2012-01-01</td>\n",
       "      <td>NaN</td>\n",
       "      <td>NaN</td>\n",
       "      <td>Education</td>\n",
       "      <td>NaN</td>\n",
       "      <td>NaN</td>\n",
       "      <td>NaN</td>\n",
       "      <td>Primary/Secondary Classroom</td>\n",
       "      <td>NaN</td>\n",
       "      <td>132737.0000</td>\n",
       "      <td>12331.665510</td>\n",
       "      <td>Primary/Secondary School</td>\n",
       "      <td>America/New_York</td>\n",
       "      <td>NaN</td>\n",
       "      <td>Eva</td>\n",
       "      <td>PrimClass</td>\n",
       "      <td>weather15.csv</td>\n",
       "    </tr>\n",
       "    <tr>\n",
       "      <th>Office_Erik</th>\n",
       "      <td>2012-12-31 23:00:00</td>\n",
       "      <td>2012-01-01</td>\n",
       "      <td>NaN</td>\n",
       "      <td>NaN</td>\n",
       "      <td>Commercial Property</td>\n",
       "      <td>NaN</td>\n",
       "      <td>NaN</td>\n",
       "      <td>NaN</td>\n",
       "      <td>Office</td>\n",
       "      <td>NaN</td>\n",
       "      <td>126205.0000</td>\n",
       "      <td>11724.823120</td>\n",
       "      <td>Business Services</td>\n",
       "      <td>America/New_York</td>\n",
       "      <td>NaN</td>\n",
       "      <td>Erik</td>\n",
       "      <td>Office</td>\n",
       "      <td>weather14.csv</td>\n",
       "    </tr>\n",
       "    <tr>\n",
       "      <th>PrimClass_Ebony</th>\n",
       "      <td>2012-12-31 23:00:00</td>\n",
       "      <td>2012-01-01</td>\n",
       "      <td>NaN</td>\n",
       "      <td>NaN</td>\n",
       "      <td>Education</td>\n",
       "      <td>NaN</td>\n",
       "      <td>NaN</td>\n",
       "      <td>NaN</td>\n",
       "      <td>Primary/Secondary Classroom</td>\n",
       "      <td>NaN</td>\n",
       "      <td>175537.0000</td>\n",
       "      <td>16307.913910</td>\n",
       "      <td>Primary/Secondary School</td>\n",
       "      <td>America/Chicago</td>\n",
       "      <td>NaN</td>\n",
       "      <td>Ebony</td>\n",
       "      <td>PrimClass</td>\n",
       "      <td>weather11.csv</td>\n",
       "    </tr>\n",
       "    <tr>\n",
       "      <th>PrimClass_Ethan</th>\n",
       "      <td>2012-12-31 23:00:00</td>\n",
       "      <td>2012-01-01</td>\n",
       "      <td>NaN</td>\n",
       "      <td>NaN</td>\n",
       "      <td>Education</td>\n",
       "      <td>NaN</td>\n",
       "      <td>NaN</td>\n",
       "      <td>NaN</td>\n",
       "      <td>Primary/Secondary Classroom</td>\n",
       "      <td>NaN</td>\n",
       "      <td>80224.0000</td>\n",
       "      <td>7453.050272</td>\n",
       "      <td>Primary/Secondary School</td>\n",
       "      <td>America/New_York</td>\n",
       "      <td>NaN</td>\n",
       "      <td>Ethan</td>\n",
       "      <td>PrimClass</td>\n",
       "      <td>weather38.csv</td>\n",
       "    </tr>\n",
       "    <tr>\n",
       "      <th>PrimClass_Elmer</th>\n",
       "      <td>2012-12-31 23:00:00</td>\n",
       "      <td>2012-01-01</td>\n",
       "      <td>NaN</td>\n",
       "      <td>NaN</td>\n",
       "      <td>Education</td>\n",
       "      <td>NaN</td>\n",
       "      <td>NaN</td>\n",
       "      <td>NaN</td>\n",
       "      <td>Primary/Secondary Classroom</td>\n",
       "      <td>NaN</td>\n",
       "      <td>97901.0000</td>\n",
       "      <td>9095.296603</td>\n",
       "      <td>Primary/Secondary School</td>\n",
       "      <td>America/Chicago</td>\n",
       "      <td>NaN</td>\n",
       "      <td>Elmer</td>\n",
       "      <td>PrimClass</td>\n",
       "      <td>weather11.csv</td>\n",
       "    </tr>\n",
       "  </tbody>\n",
       "</table>\n",
       "</div>"
      ],
      "text/plain": [
       "                                dataend  datastart  energystarscore  \\\n",
       "uid                                                                   \n",
       "PrimClass_Everett   2012-12-31 23:00:00 2012-01-01              NaN   \n",
       "UnivClass_Clifford  2015-12-31 23:00:00 2015-01-01              NaN   \n",
       "Office_Elizabeth    2012-12-31 23:00:00 2012-01-01              NaN   \n",
       "Office_Ellie        2012-12-31 23:00:00 2012-01-01              NaN   \n",
       "PrimClass_Elisabeth 2012-12-31 23:00:00 2012-01-01              NaN   \n",
       "Office_Cristina     2015-12-31 23:00:00 2015-01-01              NaN   \n",
       "PrimClass_Jolie     2015-11-30 23:00:00 2014-12-01              NaN   \n",
       "PrimClass_Jaylin    2015-11-30 23:00:00 2014-12-01              NaN   \n",
       "Office_Jesus        2015-11-30 23:00:00 2014-12-01              NaN   \n",
       "PrimClass_Esmeralda 2012-12-31 23:00:00 2012-01-01              NaN   \n",
       "PrimClass_Eoghan    2012-12-31 23:00:00 2012-01-01              NaN   \n",
       "PrimClass_Edwin     2012-12-31 23:00:00 2012-01-01              NaN   \n",
       "PrimClass_Eli       2012-12-31 23:00:00 2012-01-01              NaN   \n",
       "PrimClass_Ethel     2012-12-31 23:00:00 2012-01-01              NaN   \n",
       "PrimClass_Ernesto   2012-12-31 23:00:00 2012-01-01              NaN   \n",
       "PrimClass_Emanuela  2012-12-31 23:00:00 2012-01-01              NaN   \n",
       "PrimClass_Emilio    2012-12-31 23:00:00 2012-01-01              NaN   \n",
       "PrimClass_Eleanor   2012-12-31 23:00:00 2012-01-01              NaN   \n",
       "PrimClass_Ezekiel   2012-12-31 23:00:00 2012-01-01              NaN   \n",
       "PrimClass_Elliott   2012-12-31 23:00:00 2012-01-01              NaN   \n",
       "PrimClass_Ellen     2012-12-31 23:00:00 2012-01-01              NaN   \n",
       "PrimClass_Evie      2012-12-31 23:00:00 2012-01-01              NaN   \n",
       "PrimClass_Elijah    2012-12-31 23:00:00 2012-01-01              NaN   \n",
       "PrimClass_Ezra      2012-12-31 23:00:00 2012-01-01              NaN   \n",
       "PrimClass_Edmund    2012-12-31 23:00:00 2012-01-01              NaN   \n",
       "PrimClass_Eva       2012-12-31 23:00:00 2012-01-01              NaN   \n",
       "Office_Erik         2012-12-31 23:00:00 2012-01-01              NaN   \n",
       "PrimClass_Ebony     2012-12-31 23:00:00 2012-01-01              NaN   \n",
       "PrimClass_Ethan     2012-12-31 23:00:00 2012-01-01              NaN   \n",
       "PrimClass_Elmer     2012-12-31 23:00:00 2012-01-01              NaN   \n",
       "\n",
       "                    heatingtype             industry mainheatingtype  \\\n",
       "uid                                                                    \n",
       "PrimClass_Everett           NaN            Education             NaN   \n",
       "UnivClass_Clifford          NaN            Education             NaN   \n",
       "Office_Elizabeth            NaN  Commercial Property             NaN   \n",
       "Office_Ellie                NaN  Commercial Property             NaN   \n",
       "PrimClass_Elisabeth         NaN            Education             NaN   \n",
       "Office_Cristina             NaN            Education             NaN   \n",
       "PrimClass_Jolie             Gas            Education             Gas   \n",
       "PrimClass_Jaylin            Gas            Education             Gas   \n",
       "Office_Jesus                Gas           Government             Gas   \n",
       "PrimClass_Esmeralda         NaN            Education             NaN   \n",
       "PrimClass_Eoghan            NaN            Education             NaN   \n",
       "PrimClass_Edwin             NaN            Education             NaN   \n",
       "PrimClass_Eli               NaN            Education             NaN   \n",
       "PrimClass_Ethel             NaN            Education             NaN   \n",
       "PrimClass_Ernesto           NaN            Education             NaN   \n",
       "PrimClass_Emanuela          NaN            Education             NaN   \n",
       "PrimClass_Emilio            NaN            Education             NaN   \n",
       "PrimClass_Eleanor           NaN            Education             NaN   \n",
       "PrimClass_Ezekiel           NaN            Education             NaN   \n",
       "PrimClass_Elliott           NaN            Education             NaN   \n",
       "PrimClass_Ellen             NaN            Education             NaN   \n",
       "PrimClass_Evie              NaN            Education             NaN   \n",
       "PrimClass_Elijah            NaN            Education             NaN   \n",
       "PrimClass_Ezra              NaN            Education             NaN   \n",
       "PrimClass_Edmund            NaN            Education             NaN   \n",
       "PrimClass_Eva               NaN            Education             NaN   \n",
       "Office_Erik                 NaN  Commercial Property             NaN   \n",
       "PrimClass_Ebony             NaN            Education             NaN   \n",
       "PrimClass_Ethan             NaN            Education             NaN   \n",
       "PrimClass_Elmer             NaN            Education             NaN   \n",
       "\n",
       "                     numberoffloors  occupants            primaryspaceusage  \\\n",
       "uid                                                                           \n",
       "PrimClass_Everett               NaN        NaN  Primary/Secondary Classroom   \n",
       "UnivClass_Clifford              NaN        NaN            College Classroom   \n",
       "Office_Elizabeth                NaN        NaN                       Office   \n",
       "Office_Ellie                    NaN        NaN                       Office   \n",
       "PrimClass_Elisabeth             NaN        NaN  Primary/Secondary Classroom   \n",
       "Office_Cristina                 NaN        NaN                       Office   \n",
       "PrimClass_Jolie                 2.0      212.0  Primary/Secondary Classroom   \n",
       "PrimClass_Jaylin                2.0      219.0  Primary/Secondary Classroom   \n",
       "Office_Jesus                    1.0       40.0                       Office   \n",
       "PrimClass_Esmeralda             NaN        NaN  Primary/Secondary Classroom   \n",
       "PrimClass_Eoghan                NaN        NaN  Primary/Secondary Classroom   \n",
       "PrimClass_Edwin                 NaN        NaN  Primary/Secondary Classroom   \n",
       "PrimClass_Eli                   NaN        NaN  Primary/Secondary Classroom   \n",
       "PrimClass_Ethel                 NaN        NaN  Primary/Secondary Classroom   \n",
       "PrimClass_Ernesto               NaN        NaN  Primary/Secondary Classroom   \n",
       "PrimClass_Emanuela              NaN        NaN  Primary/Secondary Classroom   \n",
       "PrimClass_Emilio                NaN        NaN  Primary/Secondary Classroom   \n",
       "PrimClass_Eleanor               NaN        NaN  Primary/Secondary Classroom   \n",
       "PrimClass_Ezekiel               NaN        NaN  Primary/Secondary Classroom   \n",
       "PrimClass_Elliott               NaN        NaN  Primary/Secondary Classroom   \n",
       "PrimClass_Ellen                 NaN        NaN  Primary/Secondary Classroom   \n",
       "PrimClass_Evie                  NaN        NaN  Primary/Secondary Classroom   \n",
       "PrimClass_Elijah                NaN        NaN  Primary/Secondary Classroom   \n",
       "PrimClass_Ezra                  NaN        NaN  Primary/Secondary Classroom   \n",
       "PrimClass_Edmund                NaN        NaN  Primary/Secondary Classroom   \n",
       "PrimClass_Eva                   NaN        NaN  Primary/Secondary Classroom   \n",
       "Office_Erik                     NaN        NaN                       Office   \n",
       "PrimClass_Ebony                 NaN        NaN  Primary/Secondary Classroom   \n",
       "PrimClass_Ethan                 NaN        NaN  Primary/Secondary Classroom   \n",
       "PrimClass_Elmer                 NaN        NaN  Primary/Secondary Classroom   \n",
       "\n",
       "                    rating         sqft           sqm  \\\n",
       "uid                                                     \n",
       "PrimClass_Everett      NaN  105530.0000   9804.053590   \n",
       "UnivClass_Clifford     NaN   56969.0000   5292.591007   \n",
       "Office_Elizabeth       NaN  294651.0000  27373.961850   \n",
       "Office_Ellie           NaN  496517.0000  46127.918850   \n",
       "PrimClass_Elisabeth    NaN  233062.0000  21652.158990   \n",
       "Office_Cristina        NaN   92271.0000   8572.252713   \n",
       "PrimClass_Jolie          C   31505.9353   2927.000000   \n",
       "PrimClass_Jaylin         C   47070.5347   4373.000000   \n",
       "Office_Jesus             C   42646.5718   3962.000000   \n",
       "PrimClass_Esmeralda    NaN  276443.0000  25682.384030   \n",
       "PrimClass_Eoghan       NaN  315404.0000  29301.977810   \n",
       "PrimClass_Edwin        NaN   77247.0000   7176.478041   \n",
       "PrimClass_Eli          NaN  108405.0000  10071.149720   \n",
       "PrimClass_Ethel        NaN   92032.0000   8550.048896   \n",
       "PrimClass_Ernesto      NaN   72333.0000   6719.952699   \n",
       "PrimClass_Emanuela     NaN   95132.0000   8838.048196   \n",
       "PrimClass_Emilio       NaN  105215.0000   9774.789145   \n",
       "PrimClass_Eleanor      NaN   81681.0000   7588.409943   \n",
       "PrimClass_Ezekiel      NaN  153699.0000  14279.098200   \n",
       "PrimClass_Elliott      NaN  217241.0000  20182.340620   \n",
       "PrimClass_Ellen        NaN   79503.0000   7386.067209   \n",
       "PrimClass_Evie         NaN  197266.0000  18326.603200   \n",
       "PrimClass_Elijah       NaN   94150.0000   8746.817450   \n",
       "PrimClass_Ezra         NaN   92179.0000   8563.705637   \n",
       "PrimClass_Edmund       NaN   86867.0000   8070.204901   \n",
       "PrimClass_Eva          NaN  132737.0000  12331.665510   \n",
       "Office_Erik            NaN  126205.0000  11724.823120   \n",
       "PrimClass_Ebony        NaN  175537.0000  16307.913910   \n",
       "PrimClass_Ethan        NaN   80224.0000   7453.050272   \n",
       "PrimClass_Elmer        NaN   97901.0000   9095.296603   \n",
       "\n",
       "                                  subindustry             timezone  yearbuilt  \\\n",
       "uid                                                                             \n",
       "PrimClass_Everett    Primary/Secondary School     America/New_York        NaN   \n",
       "UnivClass_Clifford         College/University     America/New_York       1967   \n",
       "Office_Elizabeth       Commercial Real Estate  America/Los_Angeles        NaN   \n",
       "Office_Ellie          Bank/Financial Services  America/Los_Angeles        NaN   \n",
       "PrimClass_Elisabeth  Primary/Secondary School     America/New_York        NaN   \n",
       "Office_Cristina            College/University     America/New_York       2001   \n",
       "PrimClass_Jolie      Primary/Secondary School        Europe/London   pre 1919   \n",
       "PrimClass_Jaylin     Primary/Secondary School        Europe/London  1919-1945   \n",
       "Office_Jesus              City, County, State        Europe/London  Post 1976   \n",
       "PrimClass_Esmeralda  Primary/Secondary School     America/New_York        NaN   \n",
       "PrimClass_Eoghan     Primary/Secondary School     America/New_York        NaN   \n",
       "PrimClass_Edwin      Primary/Secondary School       America/Denver        NaN   \n",
       "PrimClass_Eli        Primary/Secondary School     America/New_York        NaN   \n",
       "PrimClass_Ethel      Primary/Secondary School       America/Denver        NaN   \n",
       "PrimClass_Ernesto    Primary/Secondary School       America/Denver        NaN   \n",
       "PrimClass_Emanuela   Primary/Secondary School      America/Chicago        NaN   \n",
       "PrimClass_Emilio     Primary/Secondary School     America/New_York        NaN   \n",
       "PrimClass_Eleanor    Primary/Secondary School     America/New_York        NaN   \n",
       "PrimClass_Ezekiel    Primary/Secondary School     America/New_York        NaN   \n",
       "PrimClass_Elliott    Primary/Secondary School     America/New_York        NaN   \n",
       "PrimClass_Ellen      Primary/Secondary School      America/Chicago        NaN   \n",
       "PrimClass_Evie       Primary/Secondary School      America/Chicago        NaN   \n",
       "PrimClass_Elijah     Primary/Secondary School     America/New_York        NaN   \n",
       "PrimClass_Ezra       Primary/Secondary School     America/New_York        NaN   \n",
       "PrimClass_Edmund     Primary/Secondary School     America/New_York        NaN   \n",
       "PrimClass_Eva        Primary/Secondary School     America/New_York        NaN   \n",
       "Office_Erik                 Business Services     America/New_York        NaN   \n",
       "PrimClass_Ebony      Primary/Secondary School      America/Chicago        NaN   \n",
       "PrimClass_Ethan      Primary/Secondary School     America/New_York        NaN   \n",
       "PrimClass_Elmer      Primary/Secondary School      America/Chicago        NaN   \n",
       "\n",
       "                      nickname primaryspaceuse_abbrev newweatherfilename  \n",
       "uid                                                                       \n",
       "PrimClass_Everett      Everett              PrimClass      weather12.csv  \n",
       "UnivClass_Clifford    Clifford              UnivClass       weather2.csv  \n",
       "Office_Elizabeth     Elizabeth                 Office      weather22.csv  \n",
       "Office_Ellie             Ellie                 Office      weather28.csv  \n",
       "PrimClass_Elisabeth  Elisabeth              PrimClass      weather23.csv  \n",
       "Office_Cristina       Cristina                 Office       weather2.csv  \n",
       "PrimClass_Jolie          Jolie              PrimClass       weather1.csv  \n",
       "PrimClass_Jaylin        Jaylin              PrimClass       weather1.csv  \n",
       "Office_Jesus             Jesus                 Office       weather1.csv  \n",
       "PrimClass_Esmeralda  Esmeralda              PrimClass      weather17.csv  \n",
       "PrimClass_Eoghan        Eoghan              PrimClass      weather14.csv  \n",
       "PrimClass_Edwin          Edwin              PrimClass      weather35.csv  \n",
       "PrimClass_Eli              Eli              PrimClass      weather12.csv  \n",
       "PrimClass_Ethel          Ethel              PrimClass      weather18.csv  \n",
       "PrimClass_Ernesto      Ernesto              PrimClass      weather18.csv  \n",
       "PrimClass_Emanuela    Emanuela              PrimClass      weather26.csv  \n",
       "PrimClass_Emilio        Emilio              PrimClass      weather12.csv  \n",
       "PrimClass_Eleanor      Eleanor              PrimClass      weather24.csv  \n",
       "PrimClass_Ezekiel      Ezekiel              PrimClass      weather29.csv  \n",
       "PrimClass_Elliott      Elliott              PrimClass      weather15.csv  \n",
       "PrimClass_Ellen          Ellen              PrimClass      weather19.csv  \n",
       "PrimClass_Evie            Evie              PrimClass      weather11.csv  \n",
       "PrimClass_Elijah        Elijah              PrimClass      weather14.csv  \n",
       "PrimClass_Ezra            Ezra              PrimClass      weather17.csv  \n",
       "PrimClass_Edmund        Edmund              PrimClass      weather15.csv  \n",
       "PrimClass_Eva              Eva              PrimClass      weather15.csv  \n",
       "Office_Erik               Erik                 Office      weather14.csv  \n",
       "PrimClass_Ebony          Ebony              PrimClass      weather11.csv  \n",
       "PrimClass_Ethan          Ethan              PrimClass      weather38.csv  \n",
       "PrimClass_Elmer          Elmer              PrimClass      weather11.csv  "
      ]
     },
     "execution_count": 4,
     "metadata": {},
     "output_type": "execute_result"
    }
   ],
   "source": [
    "meta.head(30)"
   ]
  },
  {
   "cell_type": "code",
   "execution_count": 5,
   "metadata": {
    "_uuid": "b58dd215f449212c93e30f27fb244ded81855b1b"
   },
   "outputs": [
    {
     "name": "stdout",
     "output_type": "stream",
     "text": [
      "<class 'pandas.core.frame.DataFrame'>\n",
      "Index: 507 entries, PrimClass_Everett to UnivLab_Aoife\n",
      "Data columns (total 18 columns):\n",
      "dataend                   507 non-null datetime64[ns]\n",
      "datastart                 507 non-null datetime64[ns]\n",
      "energystarscore           26 non-null float64\n",
      "heatingtype               124 non-null object\n",
      "industry                  507 non-null object\n",
      "mainheatingtype           122 non-null object\n",
      "numberoffloors            124 non-null float64\n",
      "occupants                 105 non-null float64\n",
      "primaryspaceusage         507 non-null object\n",
      "rating                    131 non-null object\n",
      "sqft                      507 non-null float64\n",
      "sqm                       507 non-null float64\n",
      "subindustry               507 non-null object\n",
      "timezone                  507 non-null object\n",
      "yearbuilt                 313 non-null object\n",
      "nickname                  507 non-null object\n",
      "primaryspaceuse_abbrev    507 non-null object\n",
      "newweatherfilename        507 non-null object\n",
      "dtypes: datetime64[ns](2), float64(5), object(11)\n",
      "memory usage: 75.3+ KB\n"
     ]
    }
   ],
   "source": [
    " meta.info()"
   ]
  },
  {
   "cell_type": "markdown",
   "metadata": {
    "_uuid": "45682da6dc90f9d0d9920f1ab4acf381f3dd2acb"
   },
   "source": [
    "One can notice that there are 507 buildings and various attributes are available.\n",
    "\n",
    "In this analysis, let's only focus on the Office Buildings with one full year of data in 2015"
   ]
  },
  {
   "cell_type": "code",
   "execution_count": 6,
   "metadata": {
    "_uuid": "0a534b9cd7b17e49e2e961f42172d5b5f2d631af"
   },
   "outputs": [
    {
     "data": {
      "text/plain": [
       "2015-01-01    225\n",
       "2014-12-01    143\n",
       "2014-05-01     56\n",
       "2012-01-01     51\n",
       "2013-01-01     12\n",
       "2014-11-01     12\n",
       "2012-02-02      5\n",
       "2010-01-01      3\n",
       "Name: datastart, dtype: int64"
      ]
     },
     "execution_count": 6,
     "metadata": {},
     "output_type": "execute_result"
    }
   ],
   "source": [
    "meta.datastart.value_counts()"
   ]
  },
  {
   "cell_type": "code",
   "execution_count": 7,
   "metadata": {
    "_uuid": "23cc141080adac44e2a5531a7aaf370a9e37e5f3"
   },
   "outputs": [
    {
     "data": {
      "text/html": [
       "<div>\n",
       "<style scoped>\n",
       "    .dataframe tbody tr th:only-of-type {\n",
       "        vertical-align: middle;\n",
       "    }\n",
       "\n",
       "    .dataframe tbody tr th {\n",
       "        vertical-align: top;\n",
       "    }\n",
       "\n",
       "    .dataframe thead th {\n",
       "        text-align: right;\n",
       "    }\n",
       "</style>\n",
       "<table border=\"1\" class=\"dataframe\">\n",
       "  <thead>\n",
       "    <tr style=\"text-align: right;\">\n",
       "      <th></th>\n",
       "      <th>dataend</th>\n",
       "      <th>datastart</th>\n",
       "      <th>energystarscore</th>\n",
       "      <th>heatingtype</th>\n",
       "      <th>industry</th>\n",
       "      <th>mainheatingtype</th>\n",
       "      <th>numberoffloors</th>\n",
       "      <th>occupants</th>\n",
       "      <th>primaryspaceusage</th>\n",
       "      <th>rating</th>\n",
       "      <th>sqft</th>\n",
       "      <th>sqm</th>\n",
       "      <th>subindustry</th>\n",
       "      <th>timezone</th>\n",
       "      <th>yearbuilt</th>\n",
       "      <th>nickname</th>\n",
       "      <th>primaryspaceuse_abbrev</th>\n",
       "      <th>newweatherfilename</th>\n",
       "    </tr>\n",
       "    <tr>\n",
       "      <th>uid</th>\n",
       "      <th></th>\n",
       "      <th></th>\n",
       "      <th></th>\n",
       "      <th></th>\n",
       "      <th></th>\n",
       "      <th></th>\n",
       "      <th></th>\n",
       "      <th></th>\n",
       "      <th></th>\n",
       "      <th></th>\n",
       "      <th></th>\n",
       "      <th></th>\n",
       "      <th></th>\n",
       "      <th></th>\n",
       "      <th></th>\n",
       "      <th></th>\n",
       "      <th></th>\n",
       "      <th></th>\n",
       "    </tr>\n",
       "  </thead>\n",
       "  <tbody>\n",
       "    <tr>\n",
       "      <th>Office_Elizabeth</th>\n",
       "      <td>2012-12-31 23:00:00</td>\n",
       "      <td>2012-01-01</td>\n",
       "      <td>NaN</td>\n",
       "      <td>NaN</td>\n",
       "      <td>Commercial Property</td>\n",
       "      <td>NaN</td>\n",
       "      <td>NaN</td>\n",
       "      <td>NaN</td>\n",
       "      <td>Office</td>\n",
       "      <td>NaN</td>\n",
       "      <td>294651.0</td>\n",
       "      <td>27373.961850</td>\n",
       "      <td>Commercial Real Estate</td>\n",
       "      <td>America/Los_Angeles</td>\n",
       "      <td>NaN</td>\n",
       "      <td>Elizabeth</td>\n",
       "      <td>Office</td>\n",
       "      <td>weather22.csv</td>\n",
       "    </tr>\n",
       "    <tr>\n",
       "      <th>Office_Ellie</th>\n",
       "      <td>2012-12-31 23:00:00</td>\n",
       "      <td>2012-01-01</td>\n",
       "      <td>NaN</td>\n",
       "      <td>NaN</td>\n",
       "      <td>Commercial Property</td>\n",
       "      <td>NaN</td>\n",
       "      <td>NaN</td>\n",
       "      <td>NaN</td>\n",
       "      <td>Office</td>\n",
       "      <td>NaN</td>\n",
       "      <td>496517.0</td>\n",
       "      <td>46127.918850</td>\n",
       "      <td>Bank/Financial Services</td>\n",
       "      <td>America/Los_Angeles</td>\n",
       "      <td>NaN</td>\n",
       "      <td>Ellie</td>\n",
       "      <td>Office</td>\n",
       "      <td>weather28.csv</td>\n",
       "    </tr>\n",
       "    <tr>\n",
       "      <th>Office_Erik</th>\n",
       "      <td>2012-12-31 23:00:00</td>\n",
       "      <td>2012-01-01</td>\n",
       "      <td>NaN</td>\n",
       "      <td>NaN</td>\n",
       "      <td>Commercial Property</td>\n",
       "      <td>NaN</td>\n",
       "      <td>NaN</td>\n",
       "      <td>NaN</td>\n",
       "      <td>Office</td>\n",
       "      <td>NaN</td>\n",
       "      <td>126205.0</td>\n",
       "      <td>11724.823120</td>\n",
       "      <td>Business Services</td>\n",
       "      <td>America/New_York</td>\n",
       "      <td>NaN</td>\n",
       "      <td>Erik</td>\n",
       "      <td>Office</td>\n",
       "      <td>weather14.csv</td>\n",
       "    </tr>\n",
       "    <tr>\n",
       "      <th>Office_Evelyn</th>\n",
       "      <td>2012-12-31 23:00:00</td>\n",
       "      <td>2012-01-01</td>\n",
       "      <td>NaN</td>\n",
       "      <td>NaN</td>\n",
       "      <td>Commercial Property</td>\n",
       "      <td>NaN</td>\n",
       "      <td>NaN</td>\n",
       "      <td>NaN</td>\n",
       "      <td>Office</td>\n",
       "      <td>NaN</td>\n",
       "      <td>1675720.0</td>\n",
       "      <td>155679.415200</td>\n",
       "      <td>Business Services</td>\n",
       "      <td>America/Los_Angeles</td>\n",
       "      <td>NaN</td>\n",
       "      <td>Evelyn</td>\n",
       "      <td>Office</td>\n",
       "      <td>weather20.csv</td>\n",
       "    </tr>\n",
       "    <tr>\n",
       "      <th>Office_Emer</th>\n",
       "      <td>2012-12-31 23:00:00</td>\n",
       "      <td>2012-01-01</td>\n",
       "      <td>NaN</td>\n",
       "      <td>NaN</td>\n",
       "      <td>Commercial Property</td>\n",
       "      <td>NaN</td>\n",
       "      <td>NaN</td>\n",
       "      <td>NaN</td>\n",
       "      <td>Office</td>\n",
       "      <td>NaN</td>\n",
       "      <td>191554.0</td>\n",
       "      <td>17795.941260</td>\n",
       "      <td>Corporate Office</td>\n",
       "      <td>America/New_York</td>\n",
       "      <td>NaN</td>\n",
       "      <td>Emer</td>\n",
       "      <td>Office</td>\n",
       "      <td>weather36.csv</td>\n",
       "    </tr>\n",
       "    <tr>\n",
       "      <th>Office_Elena</th>\n",
       "      <td>2012-12-31 23:00:00</td>\n",
       "      <td>2012-01-01</td>\n",
       "      <td>NaN</td>\n",
       "      <td>NaN</td>\n",
       "      <td>Commercial Property</td>\n",
       "      <td>NaN</td>\n",
       "      <td>NaN</td>\n",
       "      <td>NaN</td>\n",
       "      <td>Office</td>\n",
       "      <td>NaN</td>\n",
       "      <td>169420.0</td>\n",
       "      <td>15739.626260</td>\n",
       "      <td>Corporate Office</td>\n",
       "      <td>America/New_York</td>\n",
       "      <td>NaN</td>\n",
       "      <td>Elena</td>\n",
       "      <td>Office</td>\n",
       "      <td>weather37.csv</td>\n",
       "    </tr>\n",
       "    <tr>\n",
       "      <th>Office_Eileen</th>\n",
       "      <td>2012-12-31 23:00:00</td>\n",
       "      <td>2012-01-01</td>\n",
       "      <td>NaN</td>\n",
       "      <td>NaN</td>\n",
       "      <td>Commercial Property</td>\n",
       "      <td>NaN</td>\n",
       "      <td>NaN</td>\n",
       "      <td>NaN</td>\n",
       "      <td>Office</td>\n",
       "      <td>NaN</td>\n",
       "      <td>318130.0</td>\n",
       "      <td>29555.231390</td>\n",
       "      <td>Bank/Financial Services</td>\n",
       "      <td>America/Los_Angeles</td>\n",
       "      <td>NaN</td>\n",
       "      <td>Eileen</td>\n",
       "      <td>Office</td>\n",
       "      <td>weather27.csv</td>\n",
       "    </tr>\n",
       "    <tr>\n",
       "      <th>Office_Emerald</th>\n",
       "      <td>2012-12-31 23:00:00</td>\n",
       "      <td>2012-01-01</td>\n",
       "      <td>NaN</td>\n",
       "      <td>NaN</td>\n",
       "      <td>Commercial Property</td>\n",
       "      <td>NaN</td>\n",
       "      <td>NaN</td>\n",
       "      <td>NaN</td>\n",
       "      <td>Office</td>\n",
       "      <td>NaN</td>\n",
       "      <td>476246.0</td>\n",
       "      <td>44244.682140</td>\n",
       "      <td>Commercial Real Estate</td>\n",
       "      <td>America/New_York</td>\n",
       "      <td>NaN</td>\n",
       "      <td>Emerald</td>\n",
       "      <td>Office</td>\n",
       "      <td>weather16.csv</td>\n",
       "    </tr>\n",
       "    <tr>\n",
       "      <th>Office_Ellis</th>\n",
       "      <td>2012-12-31 23:00:00</td>\n",
       "      <td>2012-01-01</td>\n",
       "      <td>NaN</td>\n",
       "      <td>NaN</td>\n",
       "      <td>Commercial Property</td>\n",
       "      <td>NaN</td>\n",
       "      <td>NaN</td>\n",
       "      <td>NaN</td>\n",
       "      <td>Office</td>\n",
       "      <td>NaN</td>\n",
       "      <td>428277.0</td>\n",
       "      <td>39788.218130</td>\n",
       "      <td>Commercial Real Estate</td>\n",
       "      <td>America/New_York</td>\n",
       "      <td>NaN</td>\n",
       "      <td>Ellis</td>\n",
       "      <td>Office</td>\n",
       "      <td>weather25.csv</td>\n",
       "    </tr>\n",
       "    <tr>\n",
       "      <th>Office_Elliot</th>\n",
       "      <td>2012-12-31 23:00:00</td>\n",
       "      <td>2012-01-01</td>\n",
       "      <td>NaN</td>\n",
       "      <td>NaN</td>\n",
       "      <td>Commercial Property</td>\n",
       "      <td>NaN</td>\n",
       "      <td>NaN</td>\n",
       "      <td>NaN</td>\n",
       "      <td>Office</td>\n",
       "      <td>NaN</td>\n",
       "      <td>185847.0</td>\n",
       "      <td>17265.743840</td>\n",
       "      <td>Commercial Real Estate</td>\n",
       "      <td>America/New_York</td>\n",
       "      <td>NaN</td>\n",
       "      <td>Elliot</td>\n",
       "      <td>Office</td>\n",
       "      <td>weather31.csv</td>\n",
       "    </tr>\n",
       "    <tr>\n",
       "      <th>Office_Eddie</th>\n",
       "      <td>2012-12-31 23:00:00</td>\n",
       "      <td>2012-01-01</td>\n",
       "      <td>NaN</td>\n",
       "      <td>NaN</td>\n",
       "      <td>Commercial Property</td>\n",
       "      <td>NaN</td>\n",
       "      <td>NaN</td>\n",
       "      <td>NaN</td>\n",
       "      <td>Office</td>\n",
       "      <td>NaN</td>\n",
       "      <td>179665.0</td>\n",
       "      <td>16691.417500</td>\n",
       "      <td>Business Services</td>\n",
       "      <td>America/New_York</td>\n",
       "      <td>NaN</td>\n",
       "      <td>Eddie</td>\n",
       "      <td>Office</td>\n",
       "      <td>weather30.csv</td>\n",
       "    </tr>\n",
       "    <tr>\n",
       "      <th>Office_Bobbi</th>\n",
       "      <td>2012-12-31 23:00:00</td>\n",
       "      <td>2012-01-01</td>\n",
       "      <td>NaN</td>\n",
       "      <td>NaN</td>\n",
       "      <td>Education</td>\n",
       "      <td>NaN</td>\n",
       "      <td>NaN</td>\n",
       "      <td>NaN</td>\n",
       "      <td>Office</td>\n",
       "      <td>NaN</td>\n",
       "      <td>137297.0</td>\n",
       "      <td>12755.303190</td>\n",
       "      <td>College/University</td>\n",
       "      <td>America/Los_Angeles</td>\n",
       "      <td>1917</td>\n",
       "      <td>Bobbi</td>\n",
       "      <td>Office</td>\n",
       "      <td>weather7.csv</td>\n",
       "    </tr>\n",
       "    <tr>\n",
       "      <th>Office_Benjamin</th>\n",
       "      <td>2012-12-31 23:00:00</td>\n",
       "      <td>2012-01-01</td>\n",
       "      <td>NaN</td>\n",
       "      <td>NaN</td>\n",
       "      <td>Education</td>\n",
       "      <td>NaN</td>\n",
       "      <td>NaN</td>\n",
       "      <td>NaN</td>\n",
       "      <td>Office</td>\n",
       "      <td>NaN</td>\n",
       "      <td>75488.0</td>\n",
       "      <td>7013.061664</td>\n",
       "      <td>College/University</td>\n",
       "      <td>America/Los_Angeles</td>\n",
       "      <td>1948</td>\n",
       "      <td>Benjamin</td>\n",
       "      <td>Office</td>\n",
       "      <td>weather7.csv</td>\n",
       "    </tr>\n",
       "    <tr>\n",
       "      <th>Office_Bianca</th>\n",
       "      <td>2012-12-31 23:00:00</td>\n",
       "      <td>2012-01-01</td>\n",
       "      <td>NaN</td>\n",
       "      <td>NaN</td>\n",
       "      <td>Education</td>\n",
       "      <td>NaN</td>\n",
       "      <td>NaN</td>\n",
       "      <td>NaN</td>\n",
       "      <td>Office</td>\n",
       "      <td>NaN</td>\n",
       "      <td>57343.0</td>\n",
       "      <td>5327.336729</td>\n",
       "      <td>College/University</td>\n",
       "      <td>America/Los_Angeles</td>\n",
       "      <td>1905</td>\n",
       "      <td>Bianca</td>\n",
       "      <td>Office</td>\n",
       "      <td>weather7.csv</td>\n",
       "    </tr>\n",
       "    <tr>\n",
       "      <th>Office_Benthe</th>\n",
       "      <td>2012-12-31 23:00:00</td>\n",
       "      <td>2012-01-01</td>\n",
       "      <td>NaN</td>\n",
       "      <td>NaN</td>\n",
       "      <td>Education</td>\n",
       "      <td>NaN</td>\n",
       "      <td>NaN</td>\n",
       "      <td>NaN</td>\n",
       "      <td>Office</td>\n",
       "      <td>NaN</td>\n",
       "      <td>236242.0</td>\n",
       "      <td>21947.590530</td>\n",
       "      <td>College/University</td>\n",
       "      <td>America/Los_Angeles</td>\n",
       "      <td>1962</td>\n",
       "      <td>Benthe</td>\n",
       "      <td>Office</td>\n",
       "      <td>weather7.csv</td>\n",
       "    </tr>\n",
       "    <tr>\n",
       "      <th>Office_Brian</th>\n",
       "      <td>2012-12-31 23:00:00</td>\n",
       "      <td>2012-01-01</td>\n",
       "      <td>NaN</td>\n",
       "      <td>NaN</td>\n",
       "      <td>Education</td>\n",
       "      <td>NaN</td>\n",
       "      <td>NaN</td>\n",
       "      <td>NaN</td>\n",
       "      <td>Office</td>\n",
       "      <td>NaN</td>\n",
       "      <td>77055.0</td>\n",
       "      <td>7158.640665</td>\n",
       "      <td>College/University</td>\n",
       "      <td>America/Los_Angeles</td>\n",
       "      <td>1917</td>\n",
       "      <td>Brian</td>\n",
       "      <td>Office</td>\n",
       "      <td>weather7.csv</td>\n",
       "    </tr>\n",
       "    <tr>\n",
       "      <th>Office_Bryon</th>\n",
       "      <td>2012-12-31 23:00:00</td>\n",
       "      <td>2012-01-01</td>\n",
       "      <td>NaN</td>\n",
       "      <td>NaN</td>\n",
       "      <td>Education</td>\n",
       "      <td>NaN</td>\n",
       "      <td>NaN</td>\n",
       "      <td>NaN</td>\n",
       "      <td>Office</td>\n",
       "      <td>NaN</td>\n",
       "      <td>97618.0</td>\n",
       "      <td>9069.005054</td>\n",
       "      <td>College/University</td>\n",
       "      <td>America/Los_Angeles</td>\n",
       "      <td>1964</td>\n",
       "      <td>Bryon</td>\n",
       "      <td>Office</td>\n",
       "      <td>weather7.csv</td>\n",
       "    </tr>\n",
       "  </tbody>\n",
       "</table>\n",
       "</div>"
      ],
      "text/plain": [
       "                             dataend  datastart  energystarscore heatingtype  \\\n",
       "uid                                                                            \n",
       "Office_Elizabeth 2012-12-31 23:00:00 2012-01-01              NaN         NaN   \n",
       "Office_Ellie     2012-12-31 23:00:00 2012-01-01              NaN         NaN   \n",
       "Office_Erik      2012-12-31 23:00:00 2012-01-01              NaN         NaN   \n",
       "Office_Evelyn    2012-12-31 23:00:00 2012-01-01              NaN         NaN   \n",
       "Office_Emer      2012-12-31 23:00:00 2012-01-01              NaN         NaN   \n",
       "Office_Elena     2012-12-31 23:00:00 2012-01-01              NaN         NaN   \n",
       "Office_Eileen    2012-12-31 23:00:00 2012-01-01              NaN         NaN   \n",
       "Office_Emerald   2012-12-31 23:00:00 2012-01-01              NaN         NaN   \n",
       "Office_Ellis     2012-12-31 23:00:00 2012-01-01              NaN         NaN   \n",
       "Office_Elliot    2012-12-31 23:00:00 2012-01-01              NaN         NaN   \n",
       "Office_Eddie     2012-12-31 23:00:00 2012-01-01              NaN         NaN   \n",
       "Office_Bobbi     2012-12-31 23:00:00 2012-01-01              NaN         NaN   \n",
       "Office_Benjamin  2012-12-31 23:00:00 2012-01-01              NaN         NaN   \n",
       "Office_Bianca    2012-12-31 23:00:00 2012-01-01              NaN         NaN   \n",
       "Office_Benthe    2012-12-31 23:00:00 2012-01-01              NaN         NaN   \n",
       "Office_Brian     2012-12-31 23:00:00 2012-01-01              NaN         NaN   \n",
       "Office_Bryon     2012-12-31 23:00:00 2012-01-01              NaN         NaN   \n",
       "\n",
       "                             industry mainheatingtype  numberoffloors  \\\n",
       "uid                                                                     \n",
       "Office_Elizabeth  Commercial Property             NaN             NaN   \n",
       "Office_Ellie      Commercial Property             NaN             NaN   \n",
       "Office_Erik       Commercial Property             NaN             NaN   \n",
       "Office_Evelyn     Commercial Property             NaN             NaN   \n",
       "Office_Emer       Commercial Property             NaN             NaN   \n",
       "Office_Elena      Commercial Property             NaN             NaN   \n",
       "Office_Eileen     Commercial Property             NaN             NaN   \n",
       "Office_Emerald    Commercial Property             NaN             NaN   \n",
       "Office_Ellis      Commercial Property             NaN             NaN   \n",
       "Office_Elliot     Commercial Property             NaN             NaN   \n",
       "Office_Eddie      Commercial Property             NaN             NaN   \n",
       "Office_Bobbi                Education             NaN             NaN   \n",
       "Office_Benjamin             Education             NaN             NaN   \n",
       "Office_Bianca               Education             NaN             NaN   \n",
       "Office_Benthe               Education             NaN             NaN   \n",
       "Office_Brian                Education             NaN             NaN   \n",
       "Office_Bryon                Education             NaN             NaN   \n",
       "\n",
       "                  occupants primaryspaceusage rating       sqft  \\\n",
       "uid                                                               \n",
       "Office_Elizabeth        NaN            Office    NaN   294651.0   \n",
       "Office_Ellie            NaN            Office    NaN   496517.0   \n",
       "Office_Erik             NaN            Office    NaN   126205.0   \n",
       "Office_Evelyn           NaN            Office    NaN  1675720.0   \n",
       "Office_Emer             NaN            Office    NaN   191554.0   \n",
       "Office_Elena            NaN            Office    NaN   169420.0   \n",
       "Office_Eileen           NaN            Office    NaN   318130.0   \n",
       "Office_Emerald          NaN            Office    NaN   476246.0   \n",
       "Office_Ellis            NaN            Office    NaN   428277.0   \n",
       "Office_Elliot           NaN            Office    NaN   185847.0   \n",
       "Office_Eddie            NaN            Office    NaN   179665.0   \n",
       "Office_Bobbi            NaN            Office    NaN   137297.0   \n",
       "Office_Benjamin         NaN            Office    NaN    75488.0   \n",
       "Office_Bianca           NaN            Office    NaN    57343.0   \n",
       "Office_Benthe           NaN            Office    NaN   236242.0   \n",
       "Office_Brian            NaN            Office    NaN    77055.0   \n",
       "Office_Bryon            NaN            Office    NaN    97618.0   \n",
       "\n",
       "                            sqm              subindustry             timezone  \\\n",
       "uid                                                                             \n",
       "Office_Elizabeth   27373.961850   Commercial Real Estate  America/Los_Angeles   \n",
       "Office_Ellie       46127.918850  Bank/Financial Services  America/Los_Angeles   \n",
       "Office_Erik        11724.823120        Business Services     America/New_York   \n",
       "Office_Evelyn     155679.415200        Business Services  America/Los_Angeles   \n",
       "Office_Emer        17795.941260         Corporate Office     America/New_York   \n",
       "Office_Elena       15739.626260         Corporate Office     America/New_York   \n",
       "Office_Eileen      29555.231390  Bank/Financial Services  America/Los_Angeles   \n",
       "Office_Emerald     44244.682140   Commercial Real Estate     America/New_York   \n",
       "Office_Ellis       39788.218130   Commercial Real Estate     America/New_York   \n",
       "Office_Elliot      17265.743840   Commercial Real Estate     America/New_York   \n",
       "Office_Eddie       16691.417500        Business Services     America/New_York   \n",
       "Office_Bobbi       12755.303190       College/University  America/Los_Angeles   \n",
       "Office_Benjamin     7013.061664       College/University  America/Los_Angeles   \n",
       "Office_Bianca       5327.336729       College/University  America/Los_Angeles   \n",
       "Office_Benthe      21947.590530       College/University  America/Los_Angeles   \n",
       "Office_Brian        7158.640665       College/University  America/Los_Angeles   \n",
       "Office_Bryon        9069.005054       College/University  America/Los_Angeles   \n",
       "\n",
       "                 yearbuilt   nickname primaryspaceuse_abbrev  \\\n",
       "uid                                                            \n",
       "Office_Elizabeth       NaN  Elizabeth                 Office   \n",
       "Office_Ellie           NaN      Ellie                 Office   \n",
       "Office_Erik            NaN       Erik                 Office   \n",
       "Office_Evelyn          NaN     Evelyn                 Office   \n",
       "Office_Emer            NaN       Emer                 Office   \n",
       "Office_Elena           NaN      Elena                 Office   \n",
       "Office_Eileen          NaN     Eileen                 Office   \n",
       "Office_Emerald         NaN    Emerald                 Office   \n",
       "Office_Ellis           NaN      Ellis                 Office   \n",
       "Office_Elliot          NaN     Elliot                 Office   \n",
       "Office_Eddie           NaN      Eddie                 Office   \n",
       "Office_Bobbi          1917      Bobbi                 Office   \n",
       "Office_Benjamin       1948   Benjamin                 Office   \n",
       "Office_Bianca         1905     Bianca                 Office   \n",
       "Office_Benthe         1962     Benthe                 Office   \n",
       "Office_Brian          1917      Brian                 Office   \n",
       "Office_Bryon          1964      Bryon                 Office   \n",
       "\n",
       "                 newweatherfilename  \n",
       "uid                                  \n",
       "Office_Elizabeth      weather22.csv  \n",
       "Office_Ellie          weather28.csv  \n",
       "Office_Erik           weather14.csv  \n",
       "Office_Evelyn         weather20.csv  \n",
       "Office_Emer           weather36.csv  \n",
       "Office_Elena          weather37.csv  \n",
       "Office_Eileen         weather27.csv  \n",
       "Office_Emerald        weather16.csv  \n",
       "Office_Ellis          weather25.csv  \n",
       "Office_Elliot         weather31.csv  \n",
       "Office_Eddie          weather30.csv  \n",
       "Office_Bobbi           weather7.csv  \n",
       "Office_Benjamin        weather7.csv  \n",
       "Office_Bianca          weather7.csv  \n",
       "Office_Benthe          weather7.csv  \n",
       "Office_Brian           weather7.csv  \n",
       "Office_Bryon           weather7.csv  "
      ]
     },
     "execution_count": 7,
     "metadata": {},
     "output_type": "execute_result"
    }
   ],
   "source": [
    "meta[(meta.datastart == '2012-01-01') & (meta.primaryspaceusage == \"Office\")]"
   ]
  },
  {
   "cell_type": "code",
   "execution_count": 8,
   "metadata": {
    "_uuid": "eba9a4cc126a2711c1b88dee62cde5c579f5f62f"
   },
   "outputs": [],
   "source": [
    "temporal = pd.read_csv(\"../input/temp_open_utc_complete.csv\", index_col='timestamp', parse_dates=True).tz_localize('utc')"
   ]
  },
  {
   "cell_type": "code",
   "execution_count": 9,
   "metadata": {
    "_uuid": "0b7c4ff184fedb344be162179e04674a6d132014"
   },
   "outputs": [
    {
     "name": "stdout",
     "output_type": "stream",
     "text": [
      "<class 'pandas.core.frame.DataFrame'>\n",
      "DatetimeIndex: 40940 entries, 2010-01-01 08:00:00+00:00 to 2016-01-01 06:00:00+00:00\n",
      "Columns: 507 entries, Office_Cristina to PrimClass_Jenna\n",
      "dtypes: float64(507)\n",
      "memory usage: 158.7 MB\n"
     ]
    }
   ],
   "source": [
    "temporal.info()"
   ]
  },
  {
   "cell_type": "code",
   "execution_count": 10,
   "metadata": {
    "_uuid": "8f0f973fb49b73c800a61ca93ccc0ac1496ddb7a"
   },
   "outputs": [
    {
     "name": "stdout",
     "output_type": "stream",
     "text": [
      "<class 'pandas.core.frame.DataFrame'>\n",
      "DatetimeIndex: 40940 entries, 2010-01-01 08:00:00+00:00 to 2016-01-01 06:00:00+00:00\n",
      "Data columns (total 10 columns):\n",
      "Office_Cristina     8760 non-null float64\n",
      "PrimClass_Jolie     8760 non-null float64\n",
      "PrimClass_Jaylin    8760 non-null float64\n",
      "Office_Jesus        8760 non-null float64\n",
      "PrimClass_Uma       8760 non-null float64\n",
      "UnivClass_Tamra     8760 non-null float64\n",
      "PrimClass_Jayla     8760 non-null float64\n",
      "PrimClass_Janiya    8760 non-null float64\n",
      "PrimClass_Umar      8760 non-null float64\n",
      "PrimClass_Janice    8760 non-null float64\n",
      "dtypes: float64(10)\n",
      "memory usage: 3.4 MB\n"
     ]
    }
   ],
   "source": [
    "temporal.iloc[:,:10].info()"
   ]
  },
  {
   "cell_type": "markdown",
   "metadata": {
    "_uuid": "65842932a05bb1d3f83653ade8a0d9c57ec76a4f"
   },
   "source": [
    "The temporal data from these devices is 8760 hourly points. Each building has its own `start` and `stop` times and its own weather files\n",
    "\n",
    "# Single building energy prediction example\n",
    "\n",
    "We will take one of the buildings to demonstrate a type of forecasting example. \n",
    "\n",
    "**We will take 12 months of hourly data and remove one our of every four months and attempt to predict those gaps. This means that 25% of the data set is testing and 75% is training. **\n",
    "\n",
    "First, we need to extract a singpe building and adapt its time zone."
   ]
  },
  {
   "cell_type": "code",
   "execution_count": 11,
   "metadata": {
    "_uuid": "1928f099a7f76027f11485014dee0c9f62cc61da"
   },
   "outputs": [],
   "source": [
    "singlebuilding = \"Office_Bobbi\"\n",
    "single_timezone = meta.T[singlebuilding].timezone\n",
    "single_start = meta.T[singlebuilding].datastart\n",
    "single_end = meta.T[singlebuilding].dataend\n",
    "single_building_data = pd.DataFrame(temporal[singlebuilding].tz_convert(single_timezone).truncate(before=single_start,after=single_end))"
   ]
  },
  {
   "cell_type": "code",
   "execution_count": 12,
   "metadata": {
    "_uuid": "4c07ce8ca6a039c32113c7f451ae7129eacd5382"
   },
   "outputs": [
    {
     "data": {
      "text/plain": [
       "<matplotlib.axes._subplots.AxesSubplot at 0x1f3a19a85c0>"
      ]
     },
     "execution_count": 12,
     "metadata": {},
     "output_type": "execute_result"
    }
   ],
   "source": [
    "single_building_data.plot(figsize=(15,3))"
   ]
  },
  {
   "cell_type": "markdown",
   "metadata": {
    "_uuid": "3274b09559248467c4bb14b24163f6b2ffc02994"
   },
   "source": [
    "We can resample to smooth out the data to see the macro-level trends "
   ]
  },
  {
   "cell_type": "code",
   "execution_count": 13,
   "metadata": {
    "_uuid": "8e8f303a51c769b27e3563f3e065bcfcd3426e7e"
   },
   "outputs": [
    {
     "name": "stdout",
     "output_type": "stream",
     "text": [
      "<class 'pandas.core.frame.DataFrame'>\n",
      "DatetimeIndex: 8784 entries, 2012-01-01 00:00:00-08:00 to 2012-12-31 23:00:00-08:00\n",
      "Data columns (total 1 columns):\n",
      "Office_Bobbi    8784 non-null float64\n",
      "dtypes: float64(1)\n",
      "memory usage: 137.2 KB\n"
     ]
    }
   ],
   "source": [
    "single_building_data.info()"
   ]
  },
  {
   "cell_type": "code",
   "execution_count": 14,
   "metadata": {
    "_uuid": "b6b51de99498a84f899f7fbddc22ed019272cea1"
   },
   "outputs": [
    {
     "data": {
      "text/plain": [
       "<matplotlib.axes._subplots.AxesSubplot at 0x1f3a211b588>"
      ]
     },
     "execution_count": 14,
     "metadata": {},
     "output_type": "execute_result"
    },
    {
     "data": {
      "image/png": "[encoded data removed]",
      "text/plain": [
       "<Figure size 1080x216 with 1 Axes>"
      ]
     },
     "metadata": {
      "needs_background": "light"
     },
     "output_type": "display_data"
    }
   ],
   "source": [
    "single_building_data.resample(\"D\").sum().plot(figsize=(15,3))"
   ]
  },
  {
   "cell_type": "code",
   "execution_count": 15,
   "metadata": {
    "_uuid": "d009064e9e8d1b57b971123edba9bca1cb09a3e9"
   },
   "outputs": [
    {
     "data": {
      "text/plain": [
       "<matplotlib.axes._subplots.AxesSubplot at 0x1f3a224db00>"
      ]
     },
     "execution_count": 15,
     "metadata": {},
     "output_type": "execute_result"
    },
    {
     "data": {
      "image/png": "[encoded data removed]",
      "text/plain": [
       "<Figure size 1080x216 with 1 Axes>"
      ]
     },
     "metadata": {
      "needs_background": "light"
     },
     "output_type": "display_data"
    }
   ],
   "source": [
    "single_building_data.truncate(after='2015-02').plot(figsize=(15,3))"
   ]
  },
  {
   "cell_type": "code",
   "execution_count": 16,
   "metadata": {
    "_uuid": "f7d2b585dbad7940b0947d728d273ad0632fd52b"
   },
   "outputs": [
    {
     "data": {
      "text/plain": [
       "array([ True,  True,  True, ..., False, False, False])"
      ]
     },
     "execution_count": 16,
     "metadata": {},
     "output_type": "execute_result"
    }
   ],
   "source": [
    "single_building_data.dropna().index.month.isin([\"1\",\"2\",\"3\",\"5\",\"6\",\"7\",\"9\",\"10\",\"11\"])"
   ]
  },
  {
   "cell_type": "code",
   "execution_count": 17,
   "metadata": {
    "_uuid": "77c2306b54e82fef9baf375be7736ad21f37b1e1"
   },
   "outputs": [],
   "source": [
    "trainingdata = single_building_data[single_building_data.index.month.isin([\"1\",\"2\",\"3\",\"5\",\"6\",\"7\",\"9\",\"10\",\"11\"])]"
   ]
  },
  {
   "cell_type": "code",
   "execution_count": 61,
   "metadata": {},
   "outputs": [
    {
     "name": "stdout",
     "output_type": "stream",
     "text": [
      "6576\n"
     ]
    }
   ],
   "source": [
    "print(len(trainingdata))"
   ]
  },
  {
   "cell_type": "code",
   "execution_count": 18,
   "metadata": {
    "_uuid": "177e46b7d1689b8ca0a6abc12722cce454caf24c"
   },
   "outputs": [
    {
     "data": {
      "text/plain": [
       "<matplotlib.axes._subplots.AxesSubplot at 0x1f3a2317a20>"
      ]
     },
     "execution_count": 18,
     "metadata": {},
     "output_type": "execute_result"
    },
    {
     "data": {
      "image/png": "[encoded data removed]",
      "text/plain": [
       "<Figure size 1080x216 with 1 Axes>"
      ]
     },
     "metadata": {
      "needs_background": "light"
     },
     "output_type": "display_data"
    }
   ],
   "source": [
    "trainingdata.plot(figsize=(15,3))"
   ]
  },
  {
   "cell_type": "code",
   "execution_count": 19,
   "metadata": {
    "_uuid": "1c4822669e5e8e54f645454bb0cf0416c9fa5f1f"
   },
   "outputs": [
    {
     "name": "stdout",
     "output_type": "stream",
     "text": [
      "<class 'pandas.core.frame.DataFrame'>\n",
      "DatetimeIndex: 6576 entries, 2012-01-01 00:00:00-08:00 to 2012-11-30 23:00:00-08:00\n",
      "Data columns (total 1 columns):\n",
      "Office_Bobbi    6576 non-null float64\n",
      "dtypes: float64(1)\n",
      "memory usage: 102.8 KB\n"
     ]
    }
   ],
   "source": [
    "trainingdata.info()"
   ]
  },
  {
   "cell_type": "code",
   "execution_count": 20,
   "metadata": {
    "_uuid": "9ba95e66fde0285a82c60540815e76ed21e1f105"
   },
   "outputs": [],
   "source": [
    "testdata = single_building_data[single_building_data.index.month.isin([\"4\",\"8\",\"12\"])]"
   ]
  },
  {
   "cell_type": "code",
   "execution_count": 62,
   "metadata": {},
   "outputs": [
    {
     "name": "stdout",
     "output_type": "stream",
     "text": [
      "2208\n"
     ]
    }
   ],
   "source": [
    "print(len(testdata))"
   ]
  },
  {
   "cell_type": "code",
   "execution_count": 63,
   "metadata": {},
   "outputs": [
    {
     "name": "stdout",
     "output_type": "stream",
     "text": [
      "                           Office_Bobbi\n",
      "timestamp                              \n",
      "2012-04-01 00:00:00-07:00        53.725\n",
      "2012-04-01 01:00:00-07:00        61.325\n",
      "2012-04-01 02:00:00-07:00        53.775\n",
      "2012-04-01 03:00:00-07:00        56.125\n",
      "2012-04-01 04:00:00-07:00        53.225\n",
      "2012-04-01 05:00:00-07:00        54.200\n",
      "2012-04-01 06:00:00-07:00        52.500\n",
      "2012-04-01 07:00:00-07:00        48.400\n",
      "2012-04-01 08:00:00-07:00        47.400\n",
      "2012-04-01 09:00:00-07:00        52.875\n",
      "2012-04-01 10:00:00-07:00        47.800\n",
      "2012-04-01 11:00:00-07:00        45.750\n",
      "2012-04-01 12:00:00-07:00        49.600\n",
      "2012-04-01 13:00:00-07:00        47.475\n",
      "2012-04-01 14:00:00-07:00        47.775\n",
      "2012-04-01 15:00:00-07:00        46.750\n",
      "2012-04-01 16:00:00-07:00        47.900\n",
      "2012-04-01 17:00:00-07:00        47.400\n",
      "2012-04-01 18:00:00-07:00        47.150\n",
      "2012-04-01 19:00:00-07:00        47.025\n",
      "2012-04-01 20:00:00-07:00        47.650\n",
      "2012-04-01 21:00:00-07:00        49.375\n",
      "2012-04-01 22:00:00-07:00        51.325\n",
      "2012-04-01 23:00:00-07:00        52.400\n",
      "2012-04-02 00:00:00-07:00        58.075\n",
      "2012-04-02 01:00:00-07:00        78.225\n",
      "2012-04-02 02:00:00-07:00        66.200\n",
      "2012-04-02 03:00:00-07:00        64.700\n",
      "2012-04-02 04:00:00-07:00        62.225\n",
      "2012-04-02 05:00:00-07:00        66.850\n",
      "...                                 ...\n",
      "2012-12-30 18:00:00-08:00        44.525\n",
      "2012-12-30 19:00:00-08:00        53.500\n",
      "2012-12-30 20:00:00-08:00        45.525\n",
      "2012-12-30 21:00:00-08:00        52.500\n",
      "2012-12-30 22:00:00-08:00        46.425\n",
      "2012-12-30 23:00:00-08:00        51.525\n",
      "2012-12-31 00:00:00-08:00        46.400\n",
      "2012-12-31 01:00:00-08:00        51.100\n",
      "2012-12-31 02:00:00-08:00        46.950\n",
      "2012-12-31 03:00:00-08:00        44.075\n",
      "2012-12-31 04:00:00-08:00        45.750\n",
      "2012-12-31 05:00:00-08:00        44.850\n",
      "2012-12-31 06:00:00-08:00        45.150\n",
      "2012-12-31 07:00:00-08:00        46.150\n",
      "2012-12-31 08:00:00-08:00        45.825\n",
      "2012-12-31 09:00:00-08:00        56.100\n",
      "2012-12-31 10:00:00-08:00        44.800\n",
      "2012-12-31 11:00:00-08:00        46.025\n",
      "2012-12-31 12:00:00-08:00        44.050\n",
      "2012-12-31 13:00:00-08:00        46.450\n",
      "2012-12-31 14:00:00-08:00        44.075\n",
      "2012-12-31 15:00:00-08:00        46.000\n",
      "2012-12-31 16:00:00-08:00        52.075\n",
      "2012-12-31 17:00:00-08:00        46.825\n",
      "2012-12-31 18:00:00-08:00        47.150\n",
      "2012-12-31 19:00:00-08:00        47.075\n",
      "2012-12-31 20:00:00-08:00        49.925\n",
      "2012-12-31 21:00:00-08:00        48.325\n",
      "2012-12-31 22:00:00-08:00        49.200\n",
      "2012-12-31 23:00:00-08:00        46.725\n",
      "\n",
      "[2208 rows x 1 columns]\n"
     ]
    }
   ],
   "source": [
    "print(testdata)"
   ]
  },
  {
   "cell_type": "code",
   "execution_count": 21,
   "metadata": {
    "_uuid": "6f90271bb4f4672cfd20a20ce2c5c004e23aea7a"
   },
   "outputs": [
    {
     "name": "stdout",
     "output_type": "stream",
     "text": [
      "<class 'pandas.core.frame.DataFrame'>\n",
      "DatetimeIndex: 2208 entries, 2012-04-01 00:00:00-07:00 to 2012-12-31 23:00:00-08:00\n",
      "Data columns (total 1 columns):\n",
      "Office_Bobbi    2208 non-null float64\n",
      "dtypes: float64(1)\n",
      "memory usage: 34.5 KB\n"
     ]
    }
   ],
   "source": [
    "testdata.info()"
   ]
  },
  {
   "cell_type": "markdown",
   "metadata": {
    "_uuid": "305c34008260dbc1d188b1a43a207b19056645ac"
   },
   "source": [
    "# Building a simple open-source model to fill in the gaps\n",
    "\n",
    "Using this link as a guide: https://towardsdatascience.com/random-forest-in-python-24d0893d51c0\n",
    "\n",
    "In order to fill in the gaps, we will use a very basic implementation of the random forest model implemented in `sci-kit learn` toa fill in the gaps. \n",
    "\n",
    "We will use the following features at each timestamp:\n",
    "- Day of Week\n",
    "- Hour of Day\n",
    "- Outdoor Air Temperature\n",
    "\n",
    "Remember, this is a very simple example.\n",
    "\n",
    "First, let's grab the weather data"
   ]
  },
  {
   "cell_type": "code",
   "execution_count": 22,
   "metadata": {
    "_uuid": "f66b85a8f73c1998e54dc22d277381b35d86f69a"
   },
   "outputs": [],
   "source": [
    "weatherfilename = meta.T[singlebuilding].newweatherfilename"
   ]
  },
  {
   "cell_type": "code",
   "execution_count": 23,
   "metadata": {
    "_uuid": "5001eb9dd956eb0d2150bc63d0b5147549d2a3c6"
   },
   "outputs": [
    {
     "data": {
      "text/plain": [
       "'weather7.csv'"
      ]
     },
     "execution_count": 23,
     "metadata": {},
     "output_type": "execute_result"
    }
   ],
   "source": [
    "weatherfilename"
   ]
  },
  {
   "cell_type": "code",
   "execution_count": 24,
   "metadata": {
    "_uuid": "a752b2b313261666de873d65cbe65caa8cb8c3bd"
   },
   "outputs": [],
   "source": [
    "weather = pd.read_csv(os.path.join(\"../input/\",weatherfilename),index_col='timestamp', parse_dates=True, na_values='-9999')\n",
    "weather = weather.tz_localize(single_timezone, ambiguous = 'infer')"
   ]
  },
  {
   "cell_type": "code",
   "execution_count": 25,
   "metadata": {
    "_uuid": "0b7878fc7e3dd5ec1f152bf3746ec10ac523375e"
   },
   "outputs": [
    {
     "name": "stdout",
     "output_type": "stream",
     "text": [
      "<class 'pandas.core.frame.DataFrame'>\n",
      "DatetimeIndex: 25147 entries, 2012-01-01 00:15:00-08:00 to 2012-12-31 23:55:00-08:00\n",
      "Data columns (total 16 columns):\n",
      "Conditions               25147 non-null object\n",
      "DateUTC<br />            25147 non-null object\n",
      "Dew PointC               24795 non-null float64\n",
      "Events                   1055 non-null object\n",
      "Gust SpeedKm/h           25147 non-null object\n",
      "Humidity                 24795 non-null float64\n",
      "Precipitationmm          475 non-null float64\n",
      "Sea Level PressurehPa    25140 non-null float64\n",
      "TemperatureC             24795 non-null float64\n",
      "TimeCDT                  16304 non-null object\n",
      "TimeCST                  8843 non-null object\n",
      "VisibilityKm             25129 non-null float64\n",
      "Wind Direction           25147 non-null object\n",
      "Wind SpeedKm/h           25137 non-null object\n",
      "WindDirDegrees           25147 non-null int64\n",
      "timestamp.1              25147 non-null object\n",
      "dtypes: float64(6), int64(1), object(9)\n",
      "memory usage: 3.3+ MB\n"
     ]
    }
   ],
   "source": [
    "weather.info()"
   ]
  },
  {
   "cell_type": "markdown",
   "metadata": {
    "_uuid": "617f501bcd965f4b002779e4412982e91b698fe0"
   },
   "source": [
    "Let's get only the code"
   ]
  },
  {
   "cell_type": "code",
   "execution_count": 26,
   "metadata": {
    "_uuid": "d5e54ac5b580f83a75c284eece6959011f3d9adf"
   },
   "outputs": [],
   "source": [
    "outdoor_temp = pd.DataFrame(weather[[col for col in weather.columns if 'Temperature' in col]]).resample(\"H\").mean()"
   ]
  },
  {
   "cell_type": "code",
   "execution_count": 27,
   "metadata": {
    "_uuid": "26b108253ae10f72fee219a9a2dce10b5d6cb17a"
   },
   "outputs": [
    {
     "name": "stdout",
     "output_type": "stream",
     "text": [
      "<class 'pandas.core.frame.DataFrame'>\n",
      "DatetimeIndex: 8784 entries, 2012-01-01 00:00:00-08:00 to 2012-12-31 23:00:00-08:00\n",
      "Freq: H\n",
      "Data columns (total 1 columns):\n",
      "TemperatureC    8585 non-null float64\n",
      "dtypes: float64(1)\n",
      "memory usage: 137.2 KB\n"
     ]
    }
   ],
   "source": [
    "outdoor_temp.info()"
   ]
  },
  {
   "cell_type": "code",
   "execution_count": 28,
   "metadata": {
    "_uuid": "ef2db25aa3bbf85ef4b21bd36ef607ea84eeff5e"
   },
   "outputs": [],
   "source": [
    "outdoor_temp = outdoor_temp.reindex(pd.DatetimeIndex(start=outdoor_temp.index[0], periods=len(single_building_data), freq=\"H\")).fillna(method='ffill').fillna(method='bfill')"
   ]
  },
  {
   "cell_type": "code",
   "execution_count": 29,
   "metadata": {
    "_uuid": "b5e42d674e047a60479ae9d3331cf7149bbfbd0d"
   },
   "outputs": [
    {
     "name": "stdout",
     "output_type": "stream",
     "text": [
      "<class 'pandas.core.frame.DataFrame'>\n",
      "DatetimeIndex: 8784 entries, 2012-01-01 00:00:00-08:00 to 2012-12-31 23:00:00-08:00\n",
      "Freq: H\n",
      "Data columns (total 1 columns):\n",
      "TemperatureC    8784 non-null float64\n",
      "dtypes: float64(1)\n",
      "memory usage: 137.2 KB\n"
     ]
    }
   ],
   "source": [
    "outdoor_temp.info()"
   ]
  },
  {
   "cell_type": "code",
   "execution_count": 69,
   "metadata": {},
   "outputs": [
    {
     "name": "stdout",
     "output_type": "stream",
     "text": [
      "Int64Index([ 1,  1,  1,  1,  1,  1,  1,  1,  1,  1,\n",
      "            ...\n",
      "            12, 12, 12, 12, 12, 12, 12, 12, 12, 12],\n",
      "           dtype='int64', length=8784)\n"
     ]
    }
   ],
   "source": [
    "print(outdoor_temp.index.month)"
   ]
  },
  {
   "cell_type": "markdown",
   "metadata": {
    "_uuid": "634609763a68645748e70ef19c2f42fc0c88421b"
   },
   "source": [
    "## Create the training data"
   ]
  },
  {
   "cell_type": "code",
   "execution_count": 30,
   "metadata": {
    "_uuid": "dabdaecd83f44325e6de7e399681a8f4210a7587"
   },
   "outputs": [
    {
     "data": {
      "text/plain": [
       "array([3.        , 3.        , 2.66666667, ..., 2.95      , 1.7       ,\n",
       "       1.9       ])"
      ]
     },
     "execution_count": 30,
     "metadata": {},
     "output_type": "execute_result"
    }
   ],
   "source": [
    "outdoor_temp[outdoor_temp.index.month.isin([\"1\",\"2\",\"3\",\"5\",\"6\",\"7\",\"9\",\"10\",\"11\"])].TemperatureC.values"
   ]
  },
  {
   "cell_type": "code",
   "execution_count": 31,
   "metadata": {
    "_uuid": "a13fa28bb7a74577352ac62145feed18ddf61f84"
   },
   "outputs": [
    {
     "data": {
      "text/html": [
       "<div>\n",
       "<style scoped>\n",
       "    .dataframe tbody tr th:only-of-type {\n",
       "        vertical-align: middle;\n",
       "    }\n",
       "\n",
       "    .dataframe tbody tr th {\n",
       "        vertical-align: top;\n",
       "    }\n",
       "\n",
       "    .dataframe thead th {\n",
       "        text-align: right;\n",
       "    }\n",
       "</style>\n",
       "<table border=\"1\" class=\"dataframe\">\n",
       "  <thead>\n",
       "    <tr style=\"text-align: right;\">\n",
       "      <th></th>\n",
       "      <th>0</th>\n",
       "      <th>1</th>\n",
       "      <th>2</th>\n",
       "      <th>3</th>\n",
       "      <th>4</th>\n",
       "      <th>5</th>\n",
       "      <th>6</th>\n",
       "    </tr>\n",
       "  </thead>\n",
       "  <tbody>\n",
       "    <tr>\n",
       "      <th>0</th>\n",
       "      <td>0</td>\n",
       "      <td>0</td>\n",
       "      <td>0</td>\n",
       "      <td>0</td>\n",
       "      <td>0</td>\n",
       "      <td>0</td>\n",
       "      <td>1</td>\n",
       "    </tr>\n",
       "    <tr>\n",
       "      <th>1</th>\n",
       "      <td>0</td>\n",
       "      <td>0</td>\n",
       "      <td>0</td>\n",
       "      <td>0</td>\n",
       "      <td>0</td>\n",
       "      <td>0</td>\n",
       "      <td>1</td>\n",
       "    </tr>\n",
       "    <tr>\n",
       "      <th>2</th>\n",
       "      <td>0</td>\n",
       "      <td>0</td>\n",
       "      <td>0</td>\n",
       "      <td>0</td>\n",
       "      <td>0</td>\n",
       "      <td>0</td>\n",
       "      <td>1</td>\n",
       "    </tr>\n",
       "    <tr>\n",
       "      <th>3</th>\n",
       "      <td>0</td>\n",
       "      <td>0</td>\n",
       "      <td>0</td>\n",
       "      <td>0</td>\n",
       "      <td>0</td>\n",
       "      <td>0</td>\n",
       "      <td>1</td>\n",
       "    </tr>\n",
       "    <tr>\n",
       "      <th>4</th>\n",
       "      <td>0</td>\n",
       "      <td>0</td>\n",
       "      <td>0</td>\n",
       "      <td>0</td>\n",
       "      <td>0</td>\n",
       "      <td>0</td>\n",
       "      <td>1</td>\n",
       "    </tr>\n",
       "  </tbody>\n",
       "</table>\n",
       "</div>"
      ],
      "text/plain": [
       "   0  1  2  3  4  5  6\n",
       "0  0  0  0  0  0  0  1\n",
       "1  0  0  0  0  0  0  1\n",
       "2  0  0  0  0  0  0  1\n",
       "3  0  0  0  0  0  0  1\n",
       "4  0  0  0  0  0  0  1"
      ]
     },
     "execution_count": 31,
     "metadata": {},
     "output_type": "execute_result"
    }
   ],
   "source": [
    "pd.get_dummies(trainingdata.index.dayofweek).head()"
   ]
  },
  {
   "cell_type": "code",
   "execution_count": 32,
   "metadata": {
    "_uuid": "cdba8443ac0d86a54709f0eb5843c6c662702d9d"
   },
   "outputs": [],
   "source": [
    "train_features = np.array(pd.concat([pd.get_dummies(trainingdata.index.hour),\n",
    "                                     pd.get_dummies(trainingdata.index.dayofweek),\n",
    "           pd.Series(outdoor_temp[outdoor_temp.index.month.isin([\"1\",\"2\",\"3\",\"5\",\"6\",\"7\",\"9\",\"10\",\"11\"])].TemperatureC.values)], axis=1))"
   ]
  },
  {
   "cell_type": "code",
   "execution_count": 33,
   "metadata": {
    "_uuid": "6daf787ca8af3b7e419d391dc89ab4a1503dec10"
   },
   "outputs": [
    {
     "data": {
      "text/plain": [
       "(6576, 32)"
      ]
     },
     "execution_count": 33,
     "metadata": {},
     "output_type": "execute_result"
    }
   ],
   "source": [
    "train_features.shape"
   ]
  },
  {
   "cell_type": "code",
   "execution_count": 34,
   "metadata": {
    "_uuid": "e5d1b0f275a17e6fc4800084f736c91af3237351"
   },
   "outputs": [],
   "source": [
    "train_labels = np.array(trainingdata[singlebuilding].values)"
   ]
  },
  {
   "cell_type": "code",
   "execution_count": 71,
   "metadata": {
    "_uuid": "d5a98d2ada3daf20cb1f789c77c40bfe411d03c7"
   },
   "outputs": [
    {
     "data": {
      "text/plain": [
       "array([ 41.775,  42.525,  42.2  , ..., 115.625, 111.275, 129.   ])"
      ]
     },
     "execution_count": 71,
     "metadata": {},
     "output_type": "execute_result"
    }
   ],
   "source": [
    "train_labels"
   ]
  },
  {
   "cell_type": "code",
   "execution_count": 36,
   "metadata": {
    "_uuid": "414e3758deae3a2fa5d1e3cd3856434ff1d23abf"
   },
   "outputs": [
    {
     "data": {
      "text/plain": [
       "(6576,)"
      ]
     },
     "execution_count": 36,
     "metadata": {},
     "output_type": "execute_result"
    }
   ],
   "source": [
    "train_labels.shape"
   ]
  },
  {
   "cell_type": "markdown",
   "metadata": {
    "_uuid": "ff096370b32b32519c289f6cbe1f5ed52b8c2c2e"
   },
   "source": [
    "## Create the test labels data"
   ]
  },
  {
   "cell_type": "code",
   "execution_count": 37,
   "metadata": {
    "_uuid": "f160c509dc1ae9c1665062c3eef559dc776ce77b"
   },
   "outputs": [],
   "source": [
    "test_features = np.array(pd.concat([pd.get_dummies(testdata.index.hour),\n",
    "                                     pd.get_dummies(testdata.index.dayofweek),\n",
    "           pd.Series(outdoor_temp[outdoor_temp.index.month.isin([\"4\",\"8\",\"12\"])].TemperatureC.values)], axis=1))"
   ]
  },
  {
   "cell_type": "code",
   "execution_count": 38,
   "metadata": {
    "_uuid": "aadc0bb91318bef9a3c3bc1ae2d14e28ca26f61b"
   },
   "outputs": [],
   "source": [
    "test_labels = testdata[singlebuilding].values\n"
   ]
  },
  {
   "cell_type": "code",
   "execution_count": 39,
   "metadata": {
    "_uuid": "97d0aad54cae96bd0812949b11c501638055b0e0"
   },
   "outputs": [
    {
     "data": {
      "text/plain": [
       "(2208,)"
      ]
     },
     "execution_count": 39,
     "metadata": {},
     "output_type": "execute_result"
    }
   ],
   "source": [
    "test_labels.shape"
   ]
  },
  {
   "cell_type": "markdown",
   "metadata": {
    "_uuid": "6b34c973bb1263ab6ed5ca6ecbf9375837a702a0"
   },
   "source": [
    "## Use a random forest model to predict the test set and calculate the results\n",
    "\n",
    "### Train Model\n",
    "After all the work of data preparation, creating and training the model is pretty simple using Scikit-learn. We import the random forest regression model from skicit-learn, instantiate the model, and fit (scikit-learn’s name for training) the model on the training data. (Again setting the random state for reproducible results). This entire process is only 3 lines in scikit-learn!"
   ]
  },
  {
   "cell_type": "code",
   "execution_count": 52,
   "metadata": {},
   "outputs": [
    {
     "name": "stdout",
     "output_type": "stream",
     "text": [
      "6576\n"
     ]
    }
   ],
   "source": [
    "print(len(train_features))"
   ]
  },
  {
   "cell_type": "code",
   "execution_count": 58,
   "metadata": {},
   "outputs": [
    {
     "name": "stdout",
     "output_type": "stream",
     "text": [
      "[0.         0.         1.         0.         0.         0.\n",
      " 0.         0.         0.         0.         0.         0.\n",
      " 0.         0.         0.         0.         0.         0.\n",
      " 0.         0.         0.         0.         0.         0.\n",
      " 0.         0.         0.         0.         0.         0.\n",
      " 1.         2.66666667]\n"
     ]
    }
   ],
   "source": [
    "print(train_features[2])"
   ]
  },
  {
   "cell_type": "code",
   "execution_count": 54,
   "metadata": {},
   "outputs": [
    {
     "name": "stdout",
     "output_type": "stream",
     "text": [
      "6576\n"
     ]
    }
   ],
   "source": [
    "print(len(train_labels))"
   ]
  },
  {
   "cell_type": "code",
   "execution_count": 59,
   "metadata": {},
   "outputs": [
    {
     "name": "stdout",
     "output_type": "stream",
     "text": [
      "41.775\n"
     ]
    }
   ],
   "source": [
    "print(train_labels[0])"
   ]
  },
  {
   "cell_type": "code",
   "execution_count": 86,
   "metadata": {
    "_uuid": "cc8ff0b258a23084bab42b5f25df9f19e08cc750"
   },
   "outputs": [],
   "source": [
    "# Import the model we are using\n",
    "from sklearn.ensemble import RandomForestRegressor\n",
    "# Instantiate model with 1000 decision trees\n",
    "rf = RandomForestRegressor(n_estimators = 1000, random_state = 42)\n",
    "# Train the model on training data\n",
    "rf.fit(train_features, train_labels);"
   ]
  },
  {
   "cell_type": "code",
   "execution_count": 87,
   "metadata": {},
   "outputs": [],
   "source": [
    "# Import the model we are using\n",
    "from sklearn.ensemble import GradientBoostingRegressor"
   ]
  },
  {
   "cell_type": "code",
   "execution_count": 89,
   "metadata": {},
   "outputs": [],
   "source": [
    "grad = GradientBoostingRegressor()\n",
    "# Instantiate model with 1000 decision trees"
   ]
  },
  {
   "cell_type": "code",
   "execution_count": 91,
   "metadata": {},
   "outputs": [
    {
     "data": {
      "text/plain": [
       "GradientBoostingRegressor(alpha=0.9, criterion='friedman_mse', init=None,\n",
       "             learning_rate=0.1, loss='ls', max_depth=3, max_features=None,\n",
       "             max_leaf_nodes=None, min_impurity_decrease=0.0,\n",
       "             min_impurity_split=None, min_samples_leaf=1,\n",
       "             min_samples_split=2, min_weight_fraction_leaf=0.0,\n",
       "             n_estimators=100, presort='auto', random_state=None,\n",
       "             subsample=1.0, verbose=0, warm_start=False)"
      ]
     },
     "execution_count": 91,
     "metadata": {},
     "output_type": "execute_result"
    }
   ],
   "source": [
    "# Train the model on training data\n",
    "grad.fit(train_features, train_labels)"
   ]
  },
  {
   "cell_type": "markdown",
   "metadata": {
    "_uuid": "5f43a99d012b946319c97b17ad04e898af448dc1"
   },
   "source": [
    "### Make Predictions on the Test Set\n",
    "Our model has now been trained to learn the relationships between the features and the targets. The next step is figuring out how good the model is! To do this we make predictions on the test features (the model is never allowed to see the test answers). We then compare the predictions to the known answers. When performing regression, we need to make sure to use the absolute error because we expect some of our answers to be low and some to be high. We are interested in how far away our average prediction is from the actual value so we take the absolute value (as we also did when establishing the baseline).\n",
    "\n"
   ]
  },
  {
   "cell_type": "code",
   "execution_count": 94,
   "metadata": {
    "_uuid": "dcd153f84f04f1d885ac6fa1c5f1632af2e631c8"
   },
   "outputs": [
    {
     "name": "stdout",
     "output_type": "stream",
     "text": [
      "Mean Absolute Error: 14.22\n"
     ]
    }
   ],
   "source": [
    "# Use the forest's predict method on the test data\n",
    "predictions = grad.predict(test_features)\n",
    "# Calculate the absolute errors\n",
    "errors = abs(predictions - test_labels)\n",
    "# Print out the mean absolute error (mae)\n",
    "print('Mean Absolute Error:', round(np.mean(errors), 2))\n"
   ]
  },
  {
   "cell_type": "code",
   "execution_count": 95,
   "metadata": {},
   "outputs": [
    {
     "name": "stdout",
     "output_type": "stream",
     "text": [
      "Mean Absolute Error: 14.22\n"
     ]
    }
   ],
   "source": [
    "\n",
    "# Use the forest's predict method on the test data\n",
    "predictions = grad.predict(test_features)\n",
    "# Calculate the absolute errors\n",
    "errors = abs(predictions - test_labels)\n",
    "# Print out the mean absolute error (mae)\n",
    "print('Mean Absolute Error:', round(np.mean(errors), 2))"
   ]
  },
  {
   "cell_type": "code",
   "execution_count": 96,
   "metadata": {},
   "outputs": [
    {
     "name": "stdout",
     "output_type": "stream",
     "text": [
      "[ 66.87264563  62.26477272  60.62247957 ... 104.95276598 104.26183692\n",
      " 101.51652551]\n"
     ]
    }
   ],
   "source": [
    "print(predictions)"
   ]
  },
  {
   "cell_type": "code",
   "execution_count": 97,
   "metadata": {},
   "outputs": [
    {
     "name": "stdout",
     "output_type": "stream",
     "text": [
      "2208\n"
     ]
    }
   ],
   "source": [
    "print(len(predictions))"
   ]
  },
  {
   "cell_type": "code",
   "execution_count": 105,
   "metadata": {
    "_uuid": "e1f7560fc9a3231a5ca9b049cda7de5850866c8f"
   },
   "outputs": [
    {
     "name": "stdout",
     "output_type": "stream",
     "text": [
      "Accuracy: 76.06 %.\n"
     ]
    }
   ],
   "source": [
    "# Calculate mean absolute percentage error (MAPE)\n",
    "mape = 100 * (errors / test_labels)\n",
    "# Calculate and display accuracy\n",
    "accuracy = 100 - np.mean(mape)\n",
    "print('Accuracy:', round(accuracy, 2), '%.')"
   ]
  },
  {
   "cell_type": "code",
   "execution_count": 106,
   "metadata": {
    "_uuid": "558c203256b9e21f5095338ffa070055acc0a519"
   },
   "outputs": [],
   "source": [
    "NMBE = 100 * (sum(test_labels - predictions) / (pd.Series(test_labels).count() * np.mean(test_labels)))\n",
    "CVRSME = 100 * ((sum((test_labels - predictions)**2) / (pd.Series(test_labels).count()-1))**(0.5)) / np.mean(test_labels)"
   ]
  },
  {
   "cell_type": "code",
   "execution_count": 107,
   "metadata": {
    "_uuid": "729044e698cac9797f2f25e1401b7e86e77b56e6"
   },
   "outputs": [
    {
     "data": {
      "text/plain": [
       "25.80559491589478"
      ]
     },
     "execution_count": 107,
     "metadata": {},
     "output_type": "execute_result"
    }
   ],
   "source": [
    "CVRSME"
   ]
  },
  {
   "cell_type": "code",
   "execution_count": 108,
   "metadata": {
    "_uuid": "df79e58b7d8ef306f9c3c3c75a789efc9c0edb1a"
   },
   "outputs": [
    {
     "data": {
      "text/plain": [
       "-7.337222876261615"
      ]
     },
     "execution_count": 108,
     "metadata": {},
     "output_type": "execute_result"
    }
   ],
   "source": [
    "NMBE"
   ]
  },
  {
   "cell_type": "markdown",
   "metadata": {
    "_uuid": "5a558dc35123190e5735b74eacdecfda450f8b09"
   },
   "source": [
    "Calculate R squared"
   ]
  },
  {
   "cell_type": "code",
   "execution_count": 109,
   "metadata": {
    "_uuid": "f2632ac38096d4512b82cb092f82deccf6a6840f"
   },
   "outputs": [],
   "source": [
    "from sklearn.metrics import r2_score"
   ]
  },
  {
   "cell_type": "code",
   "execution_count": 110,
   "metadata": {
    "_uuid": "15bb0866ae41597df52e370f7972583e8d50505b"
   },
   "outputs": [
    {
     "data": {
      "text/plain": [
       "0.5769718385634879"
      ]
     },
     "execution_count": 110,
     "metadata": {},
     "output_type": "execute_result"
    }
   ],
   "source": [
    "r2_score(test_labels, predictions)"
   ]
  },
  {
   "cell_type": "markdown",
   "metadata": {
    "_uuid": "482a996e0c0f520541a81cf219731860250820da"
   },
   "source": [
    "# Visualize the model"
   ]
  },
  {
   "cell_type": "code",
   "execution_count": 111,
   "metadata": {
    "_uuid": "c1668e6f2d7af9f6e614baac9a69f195e7233579"
   },
   "outputs": [
    {
     "name": "stderr",
     "output_type": "stream",
     "text": [
      "C:\\Users\\kitkat\\Anaconda3\\lib\\site-packages\\ipykernel_launcher.py:1: SettingWithCopyWarning: \n",
      "A value is trying to be set on a copy of a slice from a DataFrame.\n",
      "Try using .loc[row_indexer,col_indexer] = value instead\n",
      "\n",
      "See the caveats in the documentation: http://pandas.pydata.org/pandas-docs/stable/indexing.html#indexing-view-versus-copy\n",
      "  \"\"\"Entry point for launching an IPython kernel.\n"
     ]
    }
   ],
   "source": [
    "testdata[\"Prediction\"]= predictions"
   ]
  },
  {
   "cell_type": "code",
   "execution_count": 112,
   "metadata": {
    "_uuid": "6a48bce1b7ae2a72407fc69eeb69d9973c30ec45"
   },
   "outputs": [
    {
     "data": {
      "text/html": [
       "<div>\n",
       "<style scoped>\n",
       "    .dataframe tbody tr th:only-of-type {\n",
       "        vertical-align: middle;\n",
       "    }\n",
       "\n",
       "    .dataframe tbody tr th {\n",
       "        vertical-align: top;\n",
       "    }\n",
       "\n",
       "    .dataframe thead th {\n",
       "        text-align: right;\n",
       "    }\n",
       "</style>\n",
       "<table border=\"1\" class=\"dataframe\">\n",
       "  <thead>\n",
       "    <tr style=\"text-align: right;\">\n",
       "      <th></th>\n",
       "      <th>Office_Bobbi</th>\n",
       "      <th>Prediction</th>\n",
       "    </tr>\n",
       "    <tr>\n",
       "      <th>timestamp</th>\n",
       "      <th></th>\n",
       "      <th></th>\n",
       "    </tr>\n",
       "  </thead>\n",
       "  <tbody>\n",
       "    <tr>\n",
       "      <th>2012-04-01 00:00:00-07:00</th>\n",
       "      <td>53.725</td>\n",
       "      <td>66.872646</td>\n",
       "    </tr>\n",
       "    <tr>\n",
       "      <th>2012-04-01 01:00:00-07:00</th>\n",
       "      <td>61.325</td>\n",
       "      <td>62.264773</td>\n",
       "    </tr>\n",
       "    <tr>\n",
       "      <th>2012-04-01 02:00:00-07:00</th>\n",
       "      <td>53.775</td>\n",
       "      <td>60.622480</td>\n",
       "    </tr>\n",
       "    <tr>\n",
       "      <th>2012-04-01 03:00:00-07:00</th>\n",
       "      <td>56.125</td>\n",
       "      <td>62.107692</td>\n",
       "    </tr>\n",
       "    <tr>\n",
       "      <th>2012-04-01 04:00:00-07:00</th>\n",
       "      <td>53.225</td>\n",
       "      <td>62.107692</td>\n",
       "    </tr>\n",
       "  </tbody>\n",
       "</table>\n",
       "</div>"
      ],
      "text/plain": [
       "                           Office_Bobbi  Prediction\n",
       "timestamp                                          \n",
       "2012-04-01 00:00:00-07:00        53.725   66.872646\n",
       "2012-04-01 01:00:00-07:00        61.325   62.264773\n",
       "2012-04-01 02:00:00-07:00        53.775   60.622480\n",
       "2012-04-01 03:00:00-07:00        56.125   62.107692\n",
       "2012-04-01 04:00:00-07:00        53.225   62.107692"
      ]
     },
     "execution_count": 112,
     "metadata": {},
     "output_type": "execute_result"
    }
   ],
   "source": [
    "testdata.head()"
   ]
  },
  {
   "cell_type": "code",
   "execution_count": 113,
   "metadata": {
    "_uuid": "847b1cc824546bbbfcf00a328739a937eed3d914"
   },
   "outputs": [],
   "source": [
    "testdata.columns = ['Actual','Prediction']"
   ]
  },
  {
   "cell_type": "code",
   "execution_count": 114,
   "metadata": {
    "_uuid": "6ca7094d97e21286c8c7dde11924d3ecac7d3fd6"
   },
   "outputs": [
    {
     "data": {
      "text/plain": [
       "<matplotlib.axes._subplots.AxesSubplot at 0x1f3a3d33da0>"
      ]
     },
     "execution_count": 114,
     "metadata": {},
     "output_type": "execute_result"
    },
    {
     "data": {
      "image/png": "[encoded data removed]",
      "text/plain": [
       "<Figure size 1080x216 with 1 Axes>"
      ]
     },
     "metadata": {
      "needs_background": "light"
     },
     "output_type": "display_data"
    }
   ],
   "source": [
    "testdata.plot(figsize=(15,3))"
   ]
  },
  {
   "cell_type": "code",
   "execution_count": 115,
   "metadata": {
    "_uuid": "15355167ce79ee81e80f2348e195301cc719c1e1"
   },
   "outputs": [
    {
     "data": {
      "text/plain": [
       "<matplotlib.axes._subplots.AxesSubplot at 0x1f3a3e24908>"
      ]
     },
     "execution_count": 115,
     "metadata": {},
     "output_type": "execute_result"
    },
    {
     "data": {
      "image/png": "[encoded data removed]",
      "text/plain": [
       "<Figure size 1080x216 with 1 Axes>"
      ]
     },
     "metadata": {
      "needs_background": "light"
     },
     "output_type": "display_data"
    }
   ],
   "source": [
    "testdata.truncate(after='2015-05-01').plot(figsize=(15,3))"
   ]
  },
  {
   "cell_type": "code",
   "execution_count": 116,
   "metadata": {
    "_uuid": "7515c36b6b178a8f1b7b5a0e3afcd27c379ae601"
   },
   "outputs": [
    {
     "data": {
      "text/plain": [
       "<matplotlib.axes._subplots.AxesSubplot at 0x1f3a3ea9f60>"
      ]
     },
     "execution_count": 116,
     "metadata": {},
     "output_type": "execute_result"
    },
    {
     "data": {
      "image/png": "[encoded data removed]",
      "text/plain": [
       "<Figure size 1080x216 with 1 Axes>"
      ]
     },
     "metadata": {
      "needs_background": "light"
     },
     "output_type": "display_data"
    }
   ],
   "source": [
    "testdata.resample(\"D\").sum().plot(figsize=(15,3))"
   ]
  },
  {
   "cell_type": "markdown",
   "metadata": {
    "_uuid": "31648c9f95639f9625e52a47029e1eb713a41449"
   },
   "source": [
    "# Go through and create and test a model for all the buildings in the data set\n",
    "\n",
    "Let's only look at Office Buildings"
   ]
  },
  {
   "cell_type": "code",
   "execution_count": 117,
   "metadata": {
    "_uuid": "11234cd2d7d671d71310f6da7e5bc686a6530bc9"
   },
   "outputs": [],
   "source": [
    "buildingnames = temporal.columns[temporal.columns.str.contains(\"Office\")]"
   ]
  },
  {
   "cell_type": "code",
   "execution_count": 118,
   "metadata": {
    "_uuid": "aa0516aad897ea1c7c86de90c949a70864c07a6e"
   },
   "outputs": [
    {
     "data": {
      "text/plain": [
       "Index(['Office_Cristina', 'Office_Jesus', 'Office_Jett', 'Office_Jerry',\n",
       "       'Office_Lesa', 'Office_Jackie', 'Office_Marla', 'Office_Maryann',\n",
       "       'Office_Myron', 'Office_Conrad',\n",
       "       ...\n",
       "       'Office_Ellie', 'Office_Erik', 'Office_Evelyn', 'Office_Emer',\n",
       "       'Office_Elena', 'Office_Emerald', 'Office_Ellis', 'Office_Elliot',\n",
       "       'Office_Eddie', 'Office_Georgia'],\n",
       "      dtype='object', length=156)"
      ]
     },
     "execution_count": 118,
     "metadata": {},
     "output_type": "execute_result"
    }
   ],
   "source": [
    "buildingnames"
   ]
  },
  {
   "cell_type": "code",
   "execution_count": 119,
   "metadata": {
    "_uuid": "43ac80dabb53a3ad00a8b1f4b870a486927eb4ac"
   },
   "outputs": [
    {
     "name": "stdout",
     "output_type": "stream",
     "text": [
      "Modelling: Office_Cristina\n",
      "Weatherfile: weather2.csv\n",
      "MAPE: 17.860039993431283\n",
      "NMBE: 0.47615706319119927\n",
      "CVRSME: 21.38414731929372\n",
      "R SQUARED: 0.5424763390224827\n",
      "Modelling: Office_Jesus\n",
      "Weatherfile: weather1.csv\n",
      "MAPE: 131.03690198838203\n",
      "NMBE: 8.170788033083864\n",
      "CVRSME: 31.07398044054783\n",
      "R SQUARED: 0.34668058317992845\n"
     ]
    }
   ],
   "source": [
    "MAPE_data = {}\n",
    "RSQUARED_data = {}\n",
    "NMBE_data = {}\n",
    "CVRSME_data = {}\n",
    "\n",
    "for singlebuilding in buildingnames[:2]:\n",
    "    print(\"Modelling: \"+singlebuilding)\n",
    "#     try:\n",
    "    # Get Data\n",
    "    single_timezone = meta.T[singlebuilding].timezone\n",
    "    single_start = meta.T[singlebuilding].datastart\n",
    "    single_end = meta.T[singlebuilding].dataend\n",
    "    single_building_data = pd.DataFrame(temporal[singlebuilding].tz_convert(single_timezone).truncate(before=single_start,after=single_end))\n",
    "\n",
    "    # Split into Training and Testing\n",
    "    trainingdata = single_building_data[single_building_data.index.month.isin([\"1\",\"2\",\"3\",\"5\",\"6\",\"7\",\"9\",\"10\",\"11\"])]\n",
    "    testdata = single_building_data[single_building_data.index.month.isin([\"4\",\"8\",\"12\"])]\n",
    "\n",
    "    # Get weather file\n",
    "    weatherfilename = meta.T[singlebuilding].newweatherfilename\n",
    "    print(\"Weatherfile: \"+weatherfilename)\n",
    "    weather = pd.read_csv(os.path.join(\"../input/\",weatherfilename),index_col='timestamp', parse_dates=True, na_values='-9999')\n",
    "    weather = weather.tz_localize(single_timezone, ambiguous = 'infer')\n",
    "    outdoor_temp = pd.DataFrame(weather[[col for col in weather.columns if 'Temperature' in col]]).resample(\"H\").mean()\n",
    "    outdoor_temp = outdoor_temp.reindex(pd.DatetimeIndex(start=outdoor_temp.index[0], periods=len(single_building_data), freq=\"H\")).fillna(method='ffill').fillna(method='bfill')\n",
    "\n",
    "    # Create training data array\n",
    "    train_features = np.array(pd.concat([pd.get_dummies(trainingdata.index.hour),\n",
    "                                         pd.get_dummies(trainingdata.index.dayofweek),\n",
    "               pd.Series(outdoor_temp[outdoor_temp.index.month.isin([\"1\",\"2\",\"3\",\"5\",\"6\",\"7\",\"9\",\"10\",\"11\"])].TemperatureC.values)], axis=1))\n",
    "    train_labels = np.array(trainingdata[singlebuilding].values)\n",
    "\n",
    "    # Create test data array\n",
    "    test_features = np.array(pd.concat([pd.get_dummies(testdata.index.hour),\n",
    "                                         pd.get_dummies(testdata.index.dayofweek),\n",
    "               pd.Series(outdoor_temp[outdoor_temp.index.month.isin([\"4\",\"8\",\"12\"])].TemperatureC.values)], axis=1))\n",
    "    test_labels = np.array(testdata[singlebuilding].values)\n",
    "\n",
    "    # Make model\n",
    "    rf = RandomForestRegressor(n_estimators = 1000, random_state = 42)\n",
    "    # Train the model on training data\n",
    "    rf.fit(train_features, train_labels);\n",
    "\n",
    "    # Use the forest's predict method on the test data\n",
    "    predictions = rf.predict(test_features)\n",
    "    # Calculate the absolute errors\n",
    "    errors = abs(predictions - test_labels)\n",
    "\n",
    "    # Calculate mean absolute percentage error (MAPE) and add to list\n",
    "    MAPE = 100 * np.mean((errors / test_labels))\n",
    "    NMBE = 100 * (sum(test_labels - predictions) / (pd.Series(test_labels).count() * np.mean(test_labels)))\n",
    "    CVRSME = 100 * ((sum((test_labels - predictions)**2) / (pd.Series(test_labels).count()-1))**(0.5)) / np.mean(test_labels)\n",
    "    RSQUARED = r2_score(test_labels, predictions)\n",
    "\n",
    "    print(\"MAPE: \"+str(MAPE))\n",
    "    print(\"NMBE: \"+str(NMBE))\n",
    "    print(\"CVRSME: \"+str(CVRSME))\n",
    "    print(\"R SQUARED: \"+str(RSQUARED))\n",
    "\n",
    "    MAPE_data[singlebuilding] = MAPE\n",
    "    NMBE_data[singlebuilding] = NMBE\n",
    "    CVRSME_data[singlebuilding] = CVRSME\n",
    "    RSQUARED_data[singlebuilding] = RSQUARED\n",
    "        \n",
    "#     except:\n",
    "#         print(\"There was a problem\")"
   ]
  },
  {
   "cell_type": "code",
   "execution_count": 120,
   "metadata": {
    "_uuid": "ac8f3569104e5ad9b5c5ce9d667f95abff7c0127"
   },
   "outputs": [],
   "source": [
    "metrics = pd.DataFrame([MAPE_data, NMBE_data, CVRSME_data, RSQUARED_data]).T\n",
    "metrics.columns = [\"MAPE\", \"NMBE\", \"CVRSME\", \"RSQUARED\"]"
   ]
  },
  {
   "cell_type": "code",
   "execution_count": 121,
   "metadata": {
    "_uuid": "d6959a5a02858aac1b7624685841156520a9cf73"
   },
   "outputs": [
    {
     "data": {
      "text/html": [
       "<div>\n",
       "<style scoped>\n",
       "    .dataframe tbody tr th:only-of-type {\n",
       "        vertical-align: middle;\n",
       "    }\n",
       "\n",
       "    .dataframe tbody tr th {\n",
       "        vertical-align: top;\n",
       "    }\n",
       "\n",
       "    .dataframe thead th {\n",
       "        text-align: right;\n",
       "    }\n",
       "</style>\n",
       "<table border=\"1\" class=\"dataframe\">\n",
       "  <thead>\n",
       "    <tr style=\"text-align: right;\">\n",
       "      <th></th>\n",
       "      <th>MAPE</th>\n",
       "      <th>NMBE</th>\n",
       "      <th>CVRSME</th>\n",
       "      <th>RSQUARED</th>\n",
       "    </tr>\n",
       "  </thead>\n",
       "  <tbody>\n",
       "    <tr>\n",
       "      <th>Office_Cristina</th>\n",
       "      <td>17.860040</td>\n",
       "      <td>0.476157</td>\n",
       "      <td>21.384147</td>\n",
       "      <td>0.542476</td>\n",
       "    </tr>\n",
       "    <tr>\n",
       "      <th>Office_Jesus</th>\n",
       "      <td>131.036902</td>\n",
       "      <td>8.170788</td>\n",
       "      <td>31.073980</td>\n",
       "      <td>0.346681</td>\n",
       "    </tr>\n",
       "  </tbody>\n",
       "</table>\n",
       "</div>"
      ],
      "text/plain": [
       "                       MAPE      NMBE     CVRSME  RSQUARED\n",
       "Office_Cristina   17.860040  0.476157  21.384147  0.542476\n",
       "Office_Jesus     131.036902  8.170788  31.073980  0.346681"
      ]
     },
     "execution_count": 121,
     "metadata": {},
     "output_type": "execute_result"
    }
   ],
   "source": [
    "metrics"
   ]
  },
  {
   "cell_type": "code",
   "execution_count": 122,
   "metadata": {
    "_uuid": "5d7a7300aca9f9c2fcfb2fa23b3547cfc76caa30"
   },
   "outputs": [],
   "source": [
    "metrics.to_csv(\"RF_metrics.csv\")"
   ]
  },
  {
   "cell_type": "code",
   "execution_count": null,
   "metadata": {
    "_uuid": "c3bee9f6de40b1be6b561801fcf88bc3d9f156fb"
   },
   "outputs": [],
   "source": []
  },
  {
   "cell_type": "code",
   "execution_count": null,
   "metadata": {},
   "outputs": [],
   "source": []
  },
  {
   "cell_type": "code",
   "execution_count": null,
   "metadata": {},
   "outputs": [],
   "source": []
  }
 ],
 "metadata": {
  "kernelspec": {
   "display_name": "Python 3",
   "language": "python",
   "name": "python3"
  },
  "language_info": {
   "codemirror_mode": {
    "name": "ipython",
    "version": 3
   },
   "file_extension": ".py",
   "mimetype": "text/x-python",
   "name": "python",
   "nbconvert_exporter": "python",
   "pygments_lexer": "ipython3",
   "version": "3.7.0"
  }
 },
 "nbformat": 4,
 "nbformat_minor": 1
}
