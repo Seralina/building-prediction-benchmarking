{
 "cells": [
  {
   "cell_type": "code",
   "execution_count": 1,
   "metadata": {},
   "outputs": [],
   "source": [
    "import pandas as pd\n",
    "import os\n",
    "import numpy as np\n",
    "from sklearn.metrics import r2_score"
   ]
  },
  {
   "cell_type": "code",
   "execution_count": 2,
   "metadata": {},
   "outputs": [],
   "source": [
    "meta = pd.read_csv(\"../input/meta_open.csv\", index_col='uid', parse_dates=[\"datastart\",\"dataend\"], dayfirst=True)\n",
    "temporal = pd.read_csv(\"../input/temp_open_utc_complete.csv\", index_col='timestamp', parse_dates=True).tz_localize('utc')"
   ]
  },
  {
   "cell_type": "code",
   "execution_count": 3,
   "metadata": {},
   "outputs": [],
   "source": [
    "buildingnames = temporal.columns[temporal.columns.str.contains(\"Office\")]"
   ]
  },
  {
   "cell_type": "code",
   "execution_count": 4,
   "metadata": {},
   "outputs": [
    {
     "data": {
      "text/plain": [
       "Index(['Office_Cristina', 'Office_Jesus', 'Office_Jett', 'Office_Jerry',\n",
       "       'Office_Lesa', 'Office_Jackie', 'Office_Marla', 'Office_Maryann',\n",
       "       'Office_Myron', 'Office_Conrad',\n",
       "       ...\n",
       "       'Office_Ellie', 'Office_Erik', 'Office_Evelyn', 'Office_Emer',\n",
       "       'Office_Elena', 'Office_Emerald', 'Office_Ellis', 'Office_Elliot',\n",
       "       'Office_Eddie', 'Office_Georgia'],\n",
       "      dtype='object', length=156)"
      ]
     },
     "execution_count": 4,
     "metadata": {},
     "output_type": "execute_result"
    }
   ],
   "source": [
    "buildingnames"
   ]
  },
  {
   "cell_type": "code",
   "execution_count": 5,
   "metadata": {},
   "outputs": [
    {
     "name": "stderr",
     "output_type": "stream",
     "text": [
      "C:\\Users\\kitkat\\Anaconda3\\lib\\site-packages\\sklearn\\ensemble\\weight_boosting.py:29: DeprecationWarning: numpy.core.umath_tests is an internal NumPy module and should not be imported. It will be removed in a future NumPy release.\n",
      "  from numpy.core.umath_tests import inner1d\n"
     ]
    }
   ],
   "source": [
    "# Import all models we are using\n",
    "from sklearn.ensemble import AdaBoostRegressor\n",
    "from sklearn.ensemble import BaggingRegressor\n",
    "from sklearn.tree import DecisionTreeRegressor\n",
    "from sklearn.dummy import DummyRegressor\n",
    "from sklearn.tree import ExtraTreeRegressor\n",
    "from sklearn.ensemble import ExtraTreesRegressor\n",
    "from sklearn.gaussian_process import GaussianProcessRegressor\n",
    "from sklearn.ensemble import GradientBoostingRegressor\n",
    "from  sklearn.linear_model import HuberRegressor\n",
    "from sklearn.neighbors import KNeighborsRegressor\n",
    "from sklearn.neural_network import MLPRegressor\n",
    "from sklearn.linear_model import PassiveAggressiveRegressor\n",
    "from sklearn.linear_model import RANSACRegressor\n",
    "from sklearn.linear_model import SGDRegressor\n",
    "from sklearn.linear_model import TheilSenRegressor\n",
    "    \n",
    "# Make array of models. Each model is an array of two elements.\n",
    "# First element is a model-name, second is a model itself\n",
    "models = [['AdaBoostRegressor', AdaBoostRegressor(n_estimators = 1000, random_state = 42)],\n",
    "['BaggingRegressor', BaggingRegressor(n_estimators = 1000, random_state = 42)],\n",
    "['DecisionTreeRegressor', DecisionTreeRegressor(random_state = 42)],\n",
    "['DummyRegressor', DummyRegressor()],\n",
    "['ExtraTreeRegressor', ExtraTreeRegressor(random_state = 42)],\n",
    "['ExtraTreesRegressor', ExtraTreesRegressor(n_estimators = 1000, random_state = 42)],\n",
    "['GaussianProcessRegressor', GaussianProcessRegressor(random_state = 42)],\n",
    "['GradientBoostingRegressor', GradientBoostingRegressor(n_estimators = 1000, random_state = 42)],\n",
    "['HuberRegressor', HuberRegressor()],\n",
    "['KNeighborsRegressor', KNeighborsRegressor()],\n",
    "['MLPRegressor', MLPRegressor(random_state = 42)],\n",
    "['PassiveAggressiveRegressor', PassiveAggressiveRegressor(random_state = 42)],\n",
    "['RANSACRegressor', RANSACRegressor(random_state = 42)],\n",
    "['SGDRegressor', SGDRegressor(random_state = 42)],\n",
    "['TheilSenRegressor', TheilSenRegressor(random_state = 42)]]"
   ]
  },
  {
   "cell_type": "code",
   "execution_count": 6,
   "metadata": {},
   "outputs": [],
   "source": [
    "# Metrics function\n",
    "def analysis(modelName, model):\n",
    "    # Train the model on training data\n",
    "    model.fit(train_features, train_labels);\n",
    "    # Use the forest's predict method on the test data\n",
    "    predictions = model.predict(test_features)\n",
    "\n",
    "    # Calculate the absolute errors\n",
    "    errors = abs(predictions - test_labels)\n",
    "    # Calculate mean absolute percentage error (MAPE) and add to list\n",
    "    MAPE = 100 * np.mean((errors / test_labels))\n",
    "    NMBE = 100 * (sum(test_labels - predictions) / (pd.Series(test_labels).count() * np.mean(test_labels)))\n",
    "    CVRSME = 100 * ((sum((test_labels - predictions)**2) / (pd.Series(test_labels).count()-1))**(0.5)) / np.mean(test_labels)\n",
    "    RSQUARED = r2_score(test_labels, predictions)\n",
    "\n",
    "    print(\"MAPE: \"+str(MAPE))\n",
    "    print(\"NMBE: \"+str(NMBE))\n",
    "    print(\"CVRSME: \"+str(CVRSME))\n",
    "    print(\"R SQUARED: \"+str(RSQUARED))\n",
    "\n",
    "    MAPE_data[singlebuilding] = MAPE\n",
    "    NMBE_data[singlebuilding] = NMBE\n",
    "    CVRSME_data[singlebuilding] = CVRSME\n",
    "    RSQUARED_data[singlebuilding] = RSQUARED\n",
    "\n",
    "    metrics = pd.DataFrame([MAPE_data, NMBE_data, CVRSME_data, RSQUARED_data]).T\n",
    "    metrics.columns = [\"MAPE\", \"NMBE\", \"CVRSME\", \"RSQUARED\"]\n",
    "    #metrics\n",
    "    metrics.to_csv(modelName + '_metrics.csv')"
   ]
  },
  {
   "cell_type": "code",
   "execution_count": 7,
   "metadata": {},
   "outputs": [
    {
     "name": "stdout",
     "output_type": "stream",
     "text": [
      "Modelling: Office_Cristina\n",
      "Weatherfile: weather2.csv\n",
      "MAPE: 27.086057495078965\n",
      "NMBE: 1.0166219886345862\n",
      "CVRSME: 28.589986502921278\n",
      "R SQUARED: 0.18218026965653822\n",
      "MAPE: 17.858183102422007\n",
      "NMBE: 0.4656609718135961\n",
      "CVRSME: 21.38615456575262\n",
      "R SQUARED: 0.5423904430701022\n",
      "MAPE: 21.384634485764074\n",
      "NMBE: 0.517152228279596\n",
      "CVRSME: 25.316739821903553\n",
      "R SQUARED: 0.3587236256494244\n",
      "MAPE: 31.48652791375246\n",
      "NMBE: -1.4879135920651274\n",
      "CVRSME: 31.649425974673346\n",
      "R SQUARED: -0.0022160616661179855\n",
      "MAPE: 21.199458106454106\n",
      "NMBE: 0.45601705302225254\n",
      "CVRSME: 25.044352416553643\n",
      "R SQUARED: 0.37244860964320503\n",
      "MAPE: 19.391880912638175\n",
      "NMBE: 0.31110421090563156\n",
      "CVRSME: 23.17412809017922\n",
      "R SQUARED: 0.4626756902216318\n",
      "MAPE: 491.76401191704684\n",
      "NMBE: -34.16205833864936\n",
      "CVRSME: 1439.5829752350294\n",
      "R SQUARED: -2072.4954524059704\n",
      "MAPE: 16.23432854530993\n",
      "NMBE: 0.6764609008623663\n",
      "CVRSME: 19.45383065676439\n",
      "R SQUARED: 0.6213482699709816\n",
      "MAPE: 20.65202885301864\n",
      "NMBE: 0.1001960325641531\n",
      "CVRSME: 22.530352628320994\n",
      "R SQUARED: 0.4921146785475713\n",
      "MAPE: 21.225875713031922\n",
      "NMBE: 1.0541924066325037\n",
      "CVRSME: 24.66763121007184\n",
      "R SQUARED: 0.39118607506649883\n",
      "MAPE: 16.070259089680988\n",
      "NMBE: -1.4344419138402902\n",
      "CVRSME: 18.733664789756222\n",
      "R SQUARED: 0.6488641490837054\n",
      "MAPE: 42.067271343537385\n",
      "NMBE: 29.10413765779761\n",
      "CVRSME: 49.87841566509433\n",
      "R SQUARED: -1.4891724380813192\n",
      "MAPE: 23.530180538071267\n",
      "NMBE: 0.63944348481785\n",
      "CVRSME: 25.816929493057636\n",
      "R SQUARED: 0.3331335622920667\n"
     ]
    },
    {
     "name": "stderr",
     "output_type": "stream",
     "text": [
      "C:\\Users\\kitkat\\Anaconda3\\lib\\site-packages\\sklearn\\linear_model\\stochastic_gradient.py:128: FutureWarning: max_iter and tol parameters have been added in <class 'sklearn.linear_model.passive_aggressive.PassiveAggressiveRegressor'> in 0.19. If both are left unset, they default to max_iter=5 and tol=None. If tol is not None, max_iter defaults to max_iter=1000. From 0.21, default max_iter will be 1000, and default tol will be 1e-3.\n",
      "  \"and default tol will be 1e-3.\" % type(self), FutureWarning)\n",
      "C:\\Users\\kitkat\\Anaconda3\\lib\\site-packages\\sklearn\\linear_model\\stochastic_gradient.py:128: FutureWarning: max_iter and tol parameters have been added in <class 'sklearn.linear_model.stochastic_gradient.SGDRegressor'> in 0.19. If both are left unset, they default to max_iter=5 and tol=None. If tol is not None, max_iter defaults to max_iter=1000. From 0.21, default max_iter will be 1000, and default tol will be 1e-3.\n",
      "  \"and default tol will be 1e-3.\" % type(self), FutureWarning)\n"
     ]
    },
    {
     "name": "stdout",
     "output_type": "stream",
     "text": [
      "MAPE: 21.183971589906896\n",
      "NMBE: 3.1230423681493504\n",
      "CVRSME: 23.341575626790274\n",
      "R SQUARED: 0.45488262983112226\n",
      "MAPE: 21.14803887039919\n",
      "NMBE: 2.197376546955598\n",
      "CVRSME: 23.01944047122325\n",
      "R SQUARED: 0.46982504339846154\n",
      "Modelling: Office_Jesus\n",
      "Weatherfile: weather1.csv\n",
      "MAPE: 143.98697775733626\n",
      "NMBE: 4.097141967907661\n",
      "CVRSME: 31.455292481301637\n",
      "R SQUARED: 0.330548305538116\n",
      "MAPE: 131.01868771972406\n",
      "NMBE: 8.172203866096709\n",
      "CVRSME: 31.066091793328617\n",
      "R SQUARED: 0.34701225309398087\n",
      "MAPE: 130.94593439821443\n",
      "NMBE: 8.985014310236568\n",
      "CVRSME: 34.0551613661976\n",
      "R SQUARED: 0.21531080121944068\n",
      "MAPE: 147.472717445552\n",
      "NMBE: 9.316838322023584\n",
      "CVRSME: 39.557826365804324\n",
      "R SQUARED: -0.05875781584640505\n",
      "MAPE: 133.63532064910333\n",
      "NMBE: 8.831195902194585\n",
      "CVRSME: 35.02563789605391\n",
      "R SQUARED: 0.16995068274967196\n",
      "MAPE: 131.3697755558292\n",
      "NMBE: 8.576143794149983\n",
      "CVRSME: 32.82315520352936\n",
      "R SQUARED: 0.27105889251576154\n",
      "MAPE: 184.46687848774855\n",
      "NMBE: 22.525918992863506\n",
      "CVRSME: 312.3900610919685\n",
      "R SQUARED: -65.02770552755786\n",
      "MAPE: 137.9489491557483\n",
      "NMBE: 7.9181051672897835\n",
      "CVRSME: 29.300056711662194\n",
      "R SQUARED: 0.4191436900261518\n",
      "MAPE: 142.8958940375803\n",
      "NMBE: 10.560523524576228\n",
      "CVRSME: 32.27225861139455\n",
      "R SQUARED: 0.2953223265795163\n",
      "MAPE: 134.70437929126072\n",
      "NMBE: 6.739775266157466\n",
      "CVRSME: 29.87613631055983\n",
      "R SQUARED: 0.39607827319401756\n",
      "MAPE: 141.57330155600621\n",
      "NMBE: 9.068566489658124\n",
      "CVRSME: 29.20309199798763\n",
      "R SQUARED: 0.4229818648287257\n",
      "MAPE: 160.08890570774994\n",
      "NMBE: -5.113080944668592\n",
      "CVRSME: 29.643796095734793\n",
      "R SQUARED: 0.4054348848716135\n",
      "MAPE: 147.94449273541815\n",
      "NMBE: 7.20746303325496\n",
      "CVRSME: 37.68660643713704\n",
      "R SQUARED: 0.03903879675298849\n"
     ]
    },
    {
     "name": "stderr",
     "output_type": "stream",
     "text": [
      "C:\\Users\\kitkat\\Anaconda3\\lib\\site-packages\\sklearn\\linear_model\\stochastic_gradient.py:128: FutureWarning: max_iter and tol parameters have been added in <class 'sklearn.linear_model.passive_aggressive.PassiveAggressiveRegressor'> in 0.19. If both are left unset, they default to max_iter=5 and tol=None. If tol is not None, max_iter defaults to max_iter=1000. From 0.21, default max_iter will be 1000, and default tol will be 1e-3.\n",
      "  \"and default tol will be 1e-3.\" % type(self), FutureWarning)\n",
      "C:\\Users\\kitkat\\Anaconda3\\lib\\site-packages\\sklearn\\linear_model\\stochastic_gradient.py:128: FutureWarning: max_iter and tol parameters have been added in <class 'sklearn.linear_model.stochastic_gradient.SGDRegressor'> in 0.19. If both are left unset, they default to max_iter=5 and tol=None. If tol is not None, max_iter defaults to max_iter=1000. From 0.21, default max_iter will be 1000, and default tol will be 1e-3.\n",
      "  \"and default tol will be 1e-3.\" % type(self), FutureWarning)\n"
     ]
    },
    {
     "name": "stdout",
     "output_type": "stream",
     "text": [
      "MAPE: 152.87857827020383\n",
      "NMBE: 3.3643004865603876\n",
      "CVRSME: 28.92837994417283\n",
      "R SQUARED: 0.43378676665678695\n",
      "MAPE: 143.94642722656306\n",
      "NMBE: 9.890877806642619\n",
      "CVRSME: 31.734906426762116\n",
      "R SQUARED: 0.31859355990972216\n"
     ]
    }
   ],
   "source": [
    "MAPE_data = {}\n",
    "RSQUARED_data = {}\n",
    "NMBE_data = {}\n",
    "CVRSME_data = {}\n",
    "\n",
    "for singlebuilding in buildingnames[:]:\n",
    "    print(\"Modelling: \" + singlebuilding)\n",
    "    # Get Data\n",
    "    single_timezone = meta.T[singlebuilding].timezone\n",
    "    single_start = meta.T[singlebuilding].datastart\n",
    "    single_end = meta.T[singlebuilding].dataend\n",
    "    single_building_data = pd.DataFrame(temporal[singlebuilding].tz_convert(single_timezone).truncate(before=single_start,after=single_end))\n",
    "\n",
    "    # Split into Training and Testing\n",
    "    trainingdata = single_building_data[single_building_data.index.month.isin([\"1\",\"2\",\"3\",\"5\",\"6\",\"7\",\"9\",\"10\",\"11\"])]\n",
    "    testdata = single_building_data[single_building_data.index.month.isin([\"4\",\"8\",\"12\"])]\n",
    "\n",
    "    # Get weather file\n",
    "    weatherfilename = meta.T[singlebuilding].newweatherfilename\n",
    "    print(\"Weatherfile: \"+weatherfilename)\n",
    "    weather = pd.read_csv(os.path.join(\"../input/\",weatherfilename),index_col='timestamp', parse_dates=True, na_values='-9999')\n",
    "    weather = weather.tz_localize(single_timezone, ambiguous = 'infer')\n",
    "    outdoor_temp = pd.DataFrame(weather[[col for col in weather.columns if 'Temperature' in col]]).resample(\"H\").mean()\n",
    "    outdoor_temp = outdoor_temp.reindex(pd.DatetimeIndex(start=outdoor_temp.index[0], periods=len(single_building_data), freq=\"H\")).fillna(method='ffill').fillna(method='bfill')\n",
    "\n",
    "    # Create training data array\n",
    "    train_features = np.array(pd.concat([pd.get_dummies(trainingdata.index.hour),\n",
    "                                         pd.get_dummies(trainingdata.index.dayofweek),\n",
    "               pd.Series(outdoor_temp[outdoor_temp.index.month.isin([\"1\",\"2\",\"3\",\"5\",\"6\",\"7\",\"9\",\"10\",\"11\"])].TemperatureC.values)], axis=1))\n",
    "    train_labels = np.array(trainingdata[singlebuilding].values)\n",
    "\n",
    "    # Create test data array\n",
    "    test_features = np.array(pd.concat([pd.get_dummies(testdata.index.hour),\n",
    "                                         pd.get_dummies(testdata.index.dayofweek),\n",
    "               pd.Series(outdoor_temp[outdoor_temp.index.month.isin([\"4\",\"8\",\"12\"])].TemperatureC.values)], axis=1))\n",
    "    test_labels = np.array(testdata[singlebuilding].values)\n",
    "    \n",
    "    \n",
    "    for elem in models:\n",
    "        modelName = elem[0]\n",
    "        model = elem[1]\n",
    "        analysis(modelName, model)\n"
   ]
  },
  {
   "cell_type": "code",
   "execution_count": null,
   "metadata": {},
   "outputs": [],
   "source": []
  }
 ],
 "metadata": {
  "kernelspec": {
   "display_name": "Python 3",
   "language": "python",
   "name": "python3"
  },
  "language_info": {
   "codemirror_mode": {
    "name": "ipython",
    "version": 3
   },
   "file_extension": ".py",
   "mimetype": "text/x-python",
   "name": "python",
   "nbconvert_exporter": "python",
   "pygments_lexer": "ipython3",
   "version": "3.7.0"
  }
 },
 "nbformat": 4,
 "nbformat_minor": 2
}
